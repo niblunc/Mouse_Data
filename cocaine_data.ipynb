{
 "cells": [
  {
   "cell_type": "markdown",
   "metadata": {},
   "source": [
    "# Spectrogram Data \n",
    "## Cocaine study  <br>\n",
    "\n",
    "### Notes:\n",
    "* many ways to setup data...\n",
    "* Need to run exploratory analysis on variables\n",
    "* plot, plot, plot \n",
    "* pre/post comparison\n",
    "* run classification model"
   ]
  },
  {
   "cell_type": "code",
   "execution_count": 111,
   "metadata": {},
   "outputs": [],
   "source": [
    "import os, glob\n",
    "import seaborn as sns\n",
    "\n",
    "import pandas as pd\n",
    "from IPython.core import display as ICD\n",
    "import numpy as np\n",
    "import matplotlib.pyplot as plt\n",
    "#plt.style.use(\"ggplot\")\n",
    "%matplotlib inline\n"
   ]
  },
  {
   "cell_type": "code",
   "execution_count": 112,
   "metadata": {},
   "outputs": [],
   "source": [
    "specto_data_path = '/Users/nikkibytes/Documents/git_nibl/mouse_dir/Spectrogram_data'\n",
    "coher_data_path = '/Users/nikkibytes/Documents/git_nibl/mouse_dir/Coherence_Data'\n",
    "\n",
    "coher_data_files = sorted(glob.glob(os.path.join(coher_data_path, \"*\")))\n",
    "coher_dict = {}\n",
    "\n",
    "specto_data_files = glob.glob(os.path.join(specto_data_path, \"*\"))\n",
    "specto_dict={}\n",
    "\n"
   ]
  },
  {
   "cell_type": "code",
   "execution_count": 113,
   "metadata": {},
   "outputs": [],
   "source": [
    "for file in coher_data_files:\n",
    "    curr_df = pd.read_csv(file)\n",
    "    ##fig = plt.figure()\n",
    "    curr_df = curr_df.rename(columns={\"Unnamed: 0\":\"Time (s)\"})\n",
    "    corr =  curr_df.corr()\n",
    "    file_name=file.split(\"/\")[-1]\n",
    "    #sns.heatmap(corr, \n",
    "     #       xticklabels=corr.columns.values,\n",
    "      #      yticklabels=corr.columns.values)\n",
    "    coher_dict[file_name] = curr_df\n",
    "    try:\n",
    "        \n",
    "        if \"OFC-DMS\" in file_name:\n",
    "            pass\n",
    "            #print(file_name)\n",
    "            #plt.plot(curr_df['Unnamed: 0'], curr_df['OFC1 gamma'])\n",
    "            #plt.title(file.split(\"/\")[-1])\n",
    "        else:\n",
    "            pass\n",
    "            #print(file_name)\n",
    "            #plt.plot(curr_df['Unnamed: 0'], curr_df['BLA2 gamma'])\n",
    "            #plt.title(file.split(\"/\")[-1])\n",
    "    except:\n",
    "        pass\n",
    "        #print(\"\\nDATA FILE: {}\\n\".format(file.split(\"/\")[-1]))\n"
   ]
  },
  {
   "cell_type": "code",
   "execution_count": 114,
   "metadata": {},
   "outputs": [],
   "source": [
    "for file in specto_data_files:\n",
    "    curr_df = pd.read_csv(file)\n",
    "    #print(\"\\nDATA FILE: {}\\n\".format(file.split(\"/\")[-1]))\n",
    "    #ICD.display(curr_df.head())\n",
    "    #fig = plt.figure()\n",
    "    \n",
    "    file_name = file.split(\"/\")[-1]\n",
    "    specto_dict[file_name] = curr_df\n",
    "\n",
    "    #print(file.split(\"/\")[-1])\n",
    "    try:\n",
    "        \n",
    "        if \"OFC-DMS\" in file_name:\n",
    "            pass\n",
    "            #print(curr_df.columns.values)\n",
    "            #print(file_name)\n",
    "            #plt.plot(curr_df['Time (s)'], curr_df['OFC1 gamma'])\n",
    "            #plt.title(file.split(\"/\")[-1])\n",
    "        else:\n",
    "            pass\n",
    "            #print(file_name)\n",
    "            #plt.plot(curr_df['Time (s)'], curr_df['BLA2 gamma'])\n",
    "            #plt.title(file.split(\"/\")[-1])\n",
    "    except:\n",
    "        print(\"\\nDATA FILE: {}\\n\".format(file.split(\"/\")[-1]))\n",
    "\n",
    "    \n",
    "#curr_df.columns.values"
   ]
  },
  {
   "cell_type": "code",
   "execution_count": 115,
   "metadata": {},
   "outputs": [
    {
     "data": {
      "text/plain": [
       "dict_keys(['OFC-DMS mouse2 post-cocaine.csv', 'OFC-DMS mouse2 pre-cocaine.csv', 'OFC-DMS mouse3 post-cocaine.csv', 'OFC-DMS mouse3 pre-cocaine.csv', 'OFC-DMS mouse4 post-cocaine.csv', 'OFC-DMS mouse4 pre-cocaine.csv', 'multisite mouse1 post-cocaine.csv', 'multisite mouse1 pre-cocaine.csv', 'multisite mouse2 post-cocaine.csv', 'multisite mouse2 pre-cocaine.csv'])"
      ]
     },
     "execution_count": 115,
     "metadata": {},
     "output_type": "execute_result"
    }
   ],
   "source": [
    "coher_dict.keys()"
   ]
  },
  {
   "cell_type": "code",
   "execution_count": 116,
   "metadata": {},
   "outputs": [
    {
     "data": {
      "text/plain": [
       "dict_keys(['multisite mouse1 (recording 1) post-cocaine.csv', 'OFC-DMS mouse4 post-cocaine.csv', 'multisite mouse2 (recording 2) pre-cocaine.csv', 'OFC-DMS mouse2 pre-cocaine.csv', 'multisite mouse1 (recording 1) pre-cocaine.csv', 'OFC-DMS mouse4 pre-cocaine.csv', 'multisite mouse1 (recording 2) post-cocaine.csv', 'OFC-DMS mouse3 pre-cocaine.csv', 'OFC-DMS mouse2 post-cocaine.csv', 'multisite mouse2 (recording 2) post-cocaine.csv', 'multisite mouse2 (recording 1) pre-cocaine.csv', 'multisite mouse2 (recording 1) post-cocaine.csv', 'OFC-DMS mouse3 post-cocaine.csv', 'multisite mouse1 (recording 2) pre-cocaine.csv'])"
      ]
     },
     "execution_count": 116,
     "metadata": {},
     "output_type": "execute_result"
    }
   ],
   "source": [
    "specto_dict.keys()"
   ]
  },
  {
   "cell_type": "code",
   "execution_count": 133,
   "metadata": {},
   "outputs": [],
   "source": [
    "df1 = specto_dict['multisite mouse2 (recording 1) pre-cocaine.csv']\n",
    "df2 = coher_dict['multisite mouse2 post-cocaine.csv']"
   ]
  },
  {
   "cell_type": "code",
   "execution_count": 136,
   "metadata": {},
   "outputs": [
    {
     "data": {
      "text/html": [
       "<div>\n",
       "<style scoped>\n",
       "    .dataframe tbody tr th:only-of-type {\n",
       "        vertical-align: middle;\n",
       "    }\n",
       "\n",
       "    .dataframe tbody tr th {\n",
       "        vertical-align: top;\n",
       "    }\n",
       "\n",
       "    .dataframe thead th {\n",
       "        text-align: right;\n",
       "    }\n",
       "</style>\n",
       "<table border=\"1\" class=\"dataframe\">\n",
       "  <thead>\n",
       "    <tr style=\"text-align: right;\">\n",
       "      <th></th>\n",
       "      <th>Time (s)</th>\n",
       "      <th>VTA1 theta</th>\n",
       "      <th>VTA1 beta</th>\n",
       "      <th>VTA1 gamma</th>\n",
       "      <th>VTA2 theta</th>\n",
       "      <th>VTA2 beta</th>\n",
       "      <th>VTA2 gamma</th>\n",
       "      <th>VTA3 theta</th>\n",
       "      <th>VTA3 beta</th>\n",
       "      <th>VTA3 gamma</th>\n",
       "      <th>...</th>\n",
       "      <th>PFC2 theta</th>\n",
       "      <th>PFC2 beta</th>\n",
       "      <th>PFC2 gamma</th>\n",
       "      <th>PFC3 theta</th>\n",
       "      <th>PFC3 beta</th>\n",
       "      <th>PFC3 gamma</th>\n",
       "      <th>PFC4 theta</th>\n",
       "      <th>PFC4 beta</th>\n",
       "      <th>PFC4 gamma</th>\n",
       "      <th>Speed (cm/s)</th>\n",
       "    </tr>\n",
       "  </thead>\n",
       "  <tbody>\n",
       "    <tr>\n",
       "      <th>0</th>\n",
       "      <td>0</td>\n",
       "      <td>6.835938</td>\n",
       "      <td>21.484375</td>\n",
       "      <td>65.429688</td>\n",
       "      <td>-37.395231</td>\n",
       "      <td>-46.650116</td>\n",
       "      <td>-57.331531</td>\n",
       "      <td>-42.297850</td>\n",
       "      <td>-50.803080</td>\n",
       "      <td>-57.626886</td>\n",
       "      <td>...</td>\n",
       "      <td>-33.899765</td>\n",
       "      <td>-46.102518</td>\n",
       "      <td>-53.599358</td>\n",
       "      <td>-34.263811</td>\n",
       "      <td>-48.395440</td>\n",
       "      <td>-53.327235</td>\n",
       "      <td>-37.207791</td>\n",
       "      <td>-49.070831</td>\n",
       "      <td>-53.245374</td>\n",
       "      <td>0.471733</td>\n",
       "    </tr>\n",
       "    <tr>\n",
       "      <th>1</th>\n",
       "      <td>1</td>\n",
       "      <td>-43.384101</td>\n",
       "      <td>-50.381745</td>\n",
       "      <td>-55.697538</td>\n",
       "      <td>-41.351825</td>\n",
       "      <td>-48.122481</td>\n",
       "      <td>-59.439353</td>\n",
       "      <td>-35.055402</td>\n",
       "      <td>-50.348070</td>\n",
       "      <td>-57.590606</td>\n",
       "      <td>...</td>\n",
       "      <td>-36.463143</td>\n",
       "      <td>-46.210880</td>\n",
       "      <td>-56.201819</td>\n",
       "      <td>-37.827440</td>\n",
       "      <td>-48.102625</td>\n",
       "      <td>-54.494331</td>\n",
       "      <td>-36.231735</td>\n",
       "      <td>-45.139232</td>\n",
       "      <td>-54.504602</td>\n",
       "      <td>0.461540</td>\n",
       "    </tr>\n",
       "    <tr>\n",
       "      <th>2</th>\n",
       "      <td>2</td>\n",
       "      <td>-40.397161</td>\n",
       "      <td>-55.154873</td>\n",
       "      <td>-57.727934</td>\n",
       "      <td>-40.102803</td>\n",
       "      <td>-49.668890</td>\n",
       "      <td>-58.937540</td>\n",
       "      <td>-46.676072</td>\n",
       "      <td>-50.990005</td>\n",
       "      <td>-59.620383</td>\n",
       "      <td>...</td>\n",
       "      <td>-36.757618</td>\n",
       "      <td>-45.097984</td>\n",
       "      <td>-53.653511</td>\n",
       "      <td>-35.828951</td>\n",
       "      <td>-41.423565</td>\n",
       "      <td>-53.074869</td>\n",
       "      <td>-36.383285</td>\n",
       "      <td>-44.287297</td>\n",
       "      <td>-53.748591</td>\n",
       "      <td>0.484639</td>\n",
       "    </tr>\n",
       "    <tr>\n",
       "      <th>3</th>\n",
       "      <td>3</td>\n",
       "      <td>-40.560837</td>\n",
       "      <td>-50.515331</td>\n",
       "      <td>-56.477079</td>\n",
       "      <td>-41.899347</td>\n",
       "      <td>-48.590387</td>\n",
       "      <td>-60.138033</td>\n",
       "      <td>-34.204016</td>\n",
       "      <td>-44.588033</td>\n",
       "      <td>-57.168553</td>\n",
       "      <td>...</td>\n",
       "      <td>-39.078745</td>\n",
       "      <td>-42.623996</td>\n",
       "      <td>-52.406816</td>\n",
       "      <td>-40.501337</td>\n",
       "      <td>-46.072940</td>\n",
       "      <td>-53.700125</td>\n",
       "      <td>-43.813734</td>\n",
       "      <td>-48.291125</td>\n",
       "      <td>-52.444071</td>\n",
       "      <td>0.518622</td>\n",
       "    </tr>\n",
       "    <tr>\n",
       "      <th>4</th>\n",
       "      <td>4</td>\n",
       "      <td>-43.062470</td>\n",
       "      <td>-51.794588</td>\n",
       "      <td>-58.513022</td>\n",
       "      <td>-43.429995</td>\n",
       "      <td>-49.883408</td>\n",
       "      <td>-60.474030</td>\n",
       "      <td>-39.490240</td>\n",
       "      <td>-49.381475</td>\n",
       "      <td>-57.533368</td>\n",
       "      <td>...</td>\n",
       "      <td>-35.500267</td>\n",
       "      <td>-44.645900</td>\n",
       "      <td>-55.063997</td>\n",
       "      <td>-46.204642</td>\n",
       "      <td>-46.772594</td>\n",
       "      <td>-55.911008</td>\n",
       "      <td>-37.510295</td>\n",
       "      <td>-47.317414</td>\n",
       "      <td>-53.770369</td>\n",
       "      <td>0.518006</td>\n",
       "    </tr>\n",
       "  </tbody>\n",
       "</table>\n",
       "<p>5 rows × 50 columns</p>\n",
       "</div>"
      ],
      "text/plain": [
       "   Time (s)  VTA1 theta  VTA1 beta  VTA1 gamma  VTA2 theta  VTA2 beta  \\\n",
       "0         0    6.835938  21.484375   65.429688  -37.395231 -46.650116   \n",
       "1         1  -43.384101 -50.381745  -55.697538  -41.351825 -48.122481   \n",
       "2         2  -40.397161 -55.154873  -57.727934  -40.102803 -49.668890   \n",
       "3         3  -40.560837 -50.515331  -56.477079  -41.899347 -48.590387   \n",
       "4         4  -43.062470 -51.794588  -58.513022  -43.429995 -49.883408   \n",
       "\n",
       "   VTA2 gamma  VTA3 theta  VTA3 beta  VTA3 gamma  ...  PFC2 theta  PFC2 beta  \\\n",
       "0  -57.331531  -42.297850 -50.803080  -57.626886  ...  -33.899765 -46.102518   \n",
       "1  -59.439353  -35.055402 -50.348070  -57.590606  ...  -36.463143 -46.210880   \n",
       "2  -58.937540  -46.676072 -50.990005  -59.620383  ...  -36.757618 -45.097984   \n",
       "3  -60.138033  -34.204016 -44.588033  -57.168553  ...  -39.078745 -42.623996   \n",
       "4  -60.474030  -39.490240 -49.381475  -57.533368  ...  -35.500267 -44.645900   \n",
       "\n",
       "   PFC2 gamma  PFC3 theta  PFC3 beta  PFC3 gamma  PFC4 theta  PFC4 beta  \\\n",
       "0  -53.599358  -34.263811 -48.395440  -53.327235  -37.207791 -49.070831   \n",
       "1  -56.201819  -37.827440 -48.102625  -54.494331  -36.231735 -45.139232   \n",
       "2  -53.653511  -35.828951 -41.423565  -53.074869  -36.383285 -44.287297   \n",
       "3  -52.406816  -40.501337 -46.072940  -53.700125  -43.813734 -48.291125   \n",
       "4  -55.063997  -46.204642 -46.772594  -55.911008  -37.510295 -47.317414   \n",
       "\n",
       "   PFC4 gamma  Speed (cm/s)  \n",
       "0  -53.245374      0.471733  \n",
       "1  -54.504602      0.461540  \n",
       "2  -53.748591      0.484639  \n",
       "3  -52.444071      0.518622  \n",
       "4  -53.770369      0.518006  \n",
       "\n",
       "[5 rows x 50 columns]"
      ]
     },
     "metadata": {},
     "output_type": "display_data"
    },
    {
     "data": {
      "text/html": [
       "<div>\n",
       "<style scoped>\n",
       "    .dataframe tbody tr th:only-of-type {\n",
       "        vertical-align: middle;\n",
       "    }\n",
       "\n",
       "    .dataframe tbody tr th {\n",
       "        vertical-align: top;\n",
       "    }\n",
       "\n",
       "    .dataframe thead th {\n",
       "        text-align: right;\n",
       "    }\n",
       "</style>\n",
       "<table border=\"1\" class=\"dataframe\">\n",
       "  <thead>\n",
       "    <tr style=\"text-align: right;\">\n",
       "      <th></th>\n",
       "      <th>Time (s)</th>\n",
       "      <th>VTA1 theta</th>\n",
       "      <th>VTA1 beta</th>\n",
       "      <th>VTA1 gamma</th>\n",
       "      <th>VTA2 theta</th>\n",
       "      <th>VTA2 beta</th>\n",
       "      <th>VTA2 gamma</th>\n",
       "      <th>VTA3 theta</th>\n",
       "      <th>VTA3 beta</th>\n",
       "      <th>VTA3 gamma</th>\n",
       "      <th>...</th>\n",
       "      <th>PFC1 gamma</th>\n",
       "      <th>PFC2 theta</th>\n",
       "      <th>PFC2 beta</th>\n",
       "      <th>PFC2 gamma</th>\n",
       "      <th>PFC3 theta</th>\n",
       "      <th>PFC3 beta</th>\n",
       "      <th>PFC3 gamma</th>\n",
       "      <th>PFC4 theta</th>\n",
       "      <th>PFC4 beta</th>\n",
       "      <th>PFC4 gamma</th>\n",
       "    </tr>\n",
       "  </thead>\n",
       "  <tbody>\n",
       "    <tr>\n",
       "      <th>0</th>\n",
       "      <td>0</td>\n",
       "      <td>-37.677696</td>\n",
       "      <td>-49.026131</td>\n",
       "      <td>-54.576533</td>\n",
       "      <td>-36.333989</td>\n",
       "      <td>-47.487348</td>\n",
       "      <td>-52.875715</td>\n",
       "      <td>-37.307426</td>\n",
       "      <td>-47.821026</td>\n",
       "      <td>-54.115931</td>\n",
       "      <td>...</td>\n",
       "      <td>-51.920539</td>\n",
       "      <td>-35.087483</td>\n",
       "      <td>-47.472109</td>\n",
       "      <td>-51.899034</td>\n",
       "      <td>-35.102077</td>\n",
       "      <td>-47.426663</td>\n",
       "      <td>-51.949887</td>\n",
       "      <td>-35.176360</td>\n",
       "      <td>-47.417789</td>\n",
       "      <td>-51.964477</td>\n",
       "    </tr>\n",
       "    <tr>\n",
       "      <th>1</th>\n",
       "      <td>1</td>\n",
       "      <td>-33.857830</td>\n",
       "      <td>-51.120186</td>\n",
       "      <td>-55.043276</td>\n",
       "      <td>-33.340180</td>\n",
       "      <td>-50.019954</td>\n",
       "      <td>-53.201918</td>\n",
       "      <td>-34.189535</td>\n",
       "      <td>-50.219785</td>\n",
       "      <td>-54.046592</td>\n",
       "      <td>...</td>\n",
       "      <td>-52.651029</td>\n",
       "      <td>-33.546254</td>\n",
       "      <td>-48.790238</td>\n",
       "      <td>-52.599307</td>\n",
       "      <td>-33.620186</td>\n",
       "      <td>-48.468371</td>\n",
       "      <td>-52.622760</td>\n",
       "      <td>-33.691246</td>\n",
       "      <td>-48.814421</td>\n",
       "      <td>-52.681356</td>\n",
       "    </tr>\n",
       "    <tr>\n",
       "      <th>2</th>\n",
       "      <td>2</td>\n",
       "      <td>-29.423282</td>\n",
       "      <td>-45.567926</td>\n",
       "      <td>-48.565987</td>\n",
       "      <td>-31.406662</td>\n",
       "      <td>-45.714859</td>\n",
       "      <td>-49.050138</td>\n",
       "      <td>-31.677045</td>\n",
       "      <td>-46.072955</td>\n",
       "      <td>-49.168454</td>\n",
       "      <td>...</td>\n",
       "      <td>-48.465589</td>\n",
       "      <td>-33.582821</td>\n",
       "      <td>-45.907465</td>\n",
       "      <td>-48.411860</td>\n",
       "      <td>-33.477415</td>\n",
       "      <td>-45.834470</td>\n",
       "      <td>-48.424095</td>\n",
       "      <td>-33.610846</td>\n",
       "      <td>-45.875899</td>\n",
       "      <td>-48.438801</td>\n",
       "    </tr>\n",
       "    <tr>\n",
       "      <th>3</th>\n",
       "      <td>3</td>\n",
       "      <td>-26.746802</td>\n",
       "      <td>-46.090834</td>\n",
       "      <td>-53.159122</td>\n",
       "      <td>-31.935270</td>\n",
       "      <td>-45.851328</td>\n",
       "      <td>-53.014358</td>\n",
       "      <td>-31.777778</td>\n",
       "      <td>-46.194791</td>\n",
       "      <td>-52.874857</td>\n",
       "      <td>...</td>\n",
       "      <td>-51.759537</td>\n",
       "      <td>-30.884524</td>\n",
       "      <td>-46.661384</td>\n",
       "      <td>-51.817476</td>\n",
       "      <td>-30.914053</td>\n",
       "      <td>-46.570566</td>\n",
       "      <td>-51.736393</td>\n",
       "      <td>-31.101455</td>\n",
       "      <td>-46.623767</td>\n",
       "      <td>-51.821141</td>\n",
       "    </tr>\n",
       "    <tr>\n",
       "      <th>4</th>\n",
       "      <td>4</td>\n",
       "      <td>-32.671150</td>\n",
       "      <td>-47.960139</td>\n",
       "      <td>-53.816253</td>\n",
       "      <td>-31.614975</td>\n",
       "      <td>-46.019215</td>\n",
       "      <td>-52.856634</td>\n",
       "      <td>-32.473030</td>\n",
       "      <td>-46.521113</td>\n",
       "      <td>-53.579331</td>\n",
       "      <td>...</td>\n",
       "      <td>-51.849156</td>\n",
       "      <td>-31.987215</td>\n",
       "      <td>-47.480161</td>\n",
       "      <td>-51.820532</td>\n",
       "      <td>-31.904095</td>\n",
       "      <td>-47.477537</td>\n",
       "      <td>-51.823574</td>\n",
       "      <td>-31.968702</td>\n",
       "      <td>-47.592017</td>\n",
       "      <td>-51.876759</td>\n",
       "    </tr>\n",
       "  </tbody>\n",
       "</table>\n",
       "<p>5 rows × 49 columns</p>\n",
       "</div>"
      ],
      "text/plain": [
       "   Time (s)  VTA1 theta  VTA1 beta  VTA1 gamma  VTA2 theta  VTA2 beta  \\\n",
       "0         0  -37.677696 -49.026131  -54.576533  -36.333989 -47.487348   \n",
       "1         1  -33.857830 -51.120186  -55.043276  -33.340180 -50.019954   \n",
       "2         2  -29.423282 -45.567926  -48.565987  -31.406662 -45.714859   \n",
       "3         3  -26.746802 -46.090834  -53.159122  -31.935270 -45.851328   \n",
       "4         4  -32.671150 -47.960139  -53.816253  -31.614975 -46.019215   \n",
       "\n",
       "   VTA2 gamma  VTA3 theta  VTA3 beta  VTA3 gamma  ...  PFC1 gamma  PFC2 theta  \\\n",
       "0  -52.875715  -37.307426 -47.821026  -54.115931  ...  -51.920539  -35.087483   \n",
       "1  -53.201918  -34.189535 -50.219785  -54.046592  ...  -52.651029  -33.546254   \n",
       "2  -49.050138  -31.677045 -46.072955  -49.168454  ...  -48.465589  -33.582821   \n",
       "3  -53.014358  -31.777778 -46.194791  -52.874857  ...  -51.759537  -30.884524   \n",
       "4  -52.856634  -32.473030 -46.521113  -53.579331  ...  -51.849156  -31.987215   \n",
       "\n",
       "   PFC2 beta  PFC2 gamma  PFC3 theta  PFC3 beta  PFC3 gamma  PFC4 theta  \\\n",
       "0 -47.472109  -51.899034  -35.102077 -47.426663  -51.949887  -35.176360   \n",
       "1 -48.790238  -52.599307  -33.620186 -48.468371  -52.622760  -33.691246   \n",
       "2 -45.907465  -48.411860  -33.477415 -45.834470  -48.424095  -33.610846   \n",
       "3 -46.661384  -51.817476  -30.914053 -46.570566  -51.736393  -31.101455   \n",
       "4 -47.480161  -51.820532  -31.904095 -47.477537  -51.823574  -31.968702   \n",
       "\n",
       "   PFC4 beta  PFC4 gamma  \n",
       "0 -47.417789  -51.964477  \n",
       "1 -48.814421  -52.681356  \n",
       "2 -45.875899  -48.438801  \n",
       "3 -46.623767  -51.821141  \n",
       "4 -47.592017  -51.876759  \n",
       "\n",
       "[5 rows x 49 columns]"
      ]
     },
     "metadata": {},
     "output_type": "display_data"
    }
   ],
   "source": [
    "ICD.display(df1.head())\n",
    "ICD.display(df2.head())"
   ]
  },
  {
   "cell_type": "code",
   "execution_count": 166,
   "metadata": {},
   "outputs": [],
   "source": [
    "#df1.columns.values\n",
    "gamma_cols = [x for x in df1.columns.values if \"gamma\" in x]\n",
    "theta_cols = [x for x in df1.columns.values if \"theta\" in x]\n",
    "beta_cols = [x for x in df1.columns.values if \"beta\" in x]\n"
   ]
  },
  {
   "cell_type": "code",
   "execution_count": 172,
   "metadata": {},
   "outputs": [
    {
     "data": {
      "text/plain": [
       "<matplotlib.axes._subplots.AxesSubplot at 0x1a30eed250>"
      ]
     },
     "execution_count": 172,
     "metadata": {},
     "output_type": "execute_result"
    },
    {
     "data": {
      "image/png": "[encoded data removed]",
      "text/plain": [
       "<Figure size 720x576 with 2 Axes>"
      ]
     },
     "metadata": {
      "needs_background": "light"
     },
     "output_type": "display_data"
    }
   ],
   "source": [
    "\n",
    "f, ax = plt.subplots(figsize=(10, 8))\n",
    "ax.set_title('Gamma Correlation Plot')\n",
    "corr = df1[gamma_cols].corr()\n",
    "sns.heatmap(corr, cmap=\"Spectral\",linewidths=.1, linecolor='white', mask=np.zeros_like(corr, dtype=np.bool),\n",
    "            square=True, ax=ax)\n",
    "\n"
   ]
  },
  {
   "cell_type": "code",
   "execution_count": 171,
   "metadata": {},
   "outputs": [
    {
     "data": {
      "text/plain": [
       "<matplotlib.axes._subplots.AxesSubplot at 0x1a30cb6190>"
      ]
     },
     "execution_count": 171,
     "metadata": {},
     "output_type": "execute_result"
    },
    {
     "data": {
      "image/png": "[encoded data removed]",
      "text/plain": [
       "<Figure size 720x576 with 2 Axes>"
      ]
     },
     "metadata": {
      "needs_background": "light"
     },
     "output_type": "display_data"
    }
   ],
   "source": [
    "\n",
    "f, ax = plt.subplots(figsize=(10, 8))\n",
    "ax.set_title('Theta Correlation Plot')\n",
    "corr = df1[theta_cols].corr()\n",
    "sns.heatmap(corr, cmap=\"Spectral\",linewidths=.1, linecolor='white', mask=np.zeros_like(corr, dtype=np.bool),\n",
    "            square=True, ax=ax)\n",
    "\n"
   ]
  },
  {
   "cell_type": "code",
   "execution_count": 173,
   "metadata": {},
   "outputs": [
    {
     "data": {
      "text/plain": [
       "<matplotlib.axes._subplots.AxesSubplot at 0x1a31122410>"
      ]
     },
     "execution_count": 173,
     "metadata": {},
     "output_type": "execute_result"
    },
    {
     "data": {
      "image/png": "[encoded data removed]",
      "text/plain": [
       "<Figure size 720x576 with 2 Axes>"
      ]
     },
     "metadata": {
      "needs_background": "light"
     },
     "output_type": "display_data"
    }
   ],
   "source": [
    "\n",
    "f, ax = plt.subplots(figsize=(10, 8))\n",
    "ax.set_title('Beta Correlation Plot')\n",
    "corr = df1[beta_cols].corr()\n",
    "sns.heatmap(corr, cmap=\"Spectral\",linewidths=.1, linecolor='white', mask=np.zeros_like(corr, dtype=np.bool),\n",
    "            square=True, ax=ax)\n",
    "\n"
   ]
  },
  {
   "cell_type": "markdown",
   "metadata": {},
   "source": [
    "### Notes:   \n",
    "Combine regions to compare? "
   ]
  }
 ],
 "metadata": {
  "kernelspec": {
   "display_name": "Python 3",
   "language": "python",
   "name": "python3"
  },
  "language_info": {
   "codemirror_mode": {
    "name": "ipython",
    "version": 3
   },
   "file_extension": ".py",
   "mimetype": "text/x-python",
   "name": "python",
   "nbconvert_exporter": "python",
   "pygments_lexer": "ipython3",
   "version": "3.7.4"
  }
 },
 "nbformat": 4,
 "nbformat_minor": 4
}
