{
  "nbformat": 4,
  "nbformat_minor": 0,
  "metadata": {
    "colab": {
      "name": "decoding.ipynb",
      "provenance": []
    },
    "kernelspec": {
      "name": "python3",
      "display_name": "Python 3"
    }
  },
  "cells": [
    {
      "cell_type": "code",
      "metadata": {
        "id": "dCxHH-_imAfP",
        "colab_type": "code",
        "outputId": "57f852fb-216c-4761-9574-6ed288024fff",
        "colab": {
          "base_uri": "https://localhost:8080/",
          "height": 122
        }
      },
      "source": [
        "from google.colab import drive\n",
        "drive.mount('/content/drive')"
      ],
      "execution_count": 3,
      "outputs": [
        {
          "output_type": "stream",
          "text": [
            "Go to this URL in a browser: https://accounts.google.com/o/oauth2/auth?client_id=947318989803-6bn6qk8qdgf4n4g3pfee6491hc0brc4i.apps.googleusercontent.com&redirect_uri=urn%3aietf%3awg%3aoauth%3a2.0%3aoob&response_type=code&scope=email%20https%3a%2f%2fwww.googleapis.com%2fauth%2fdocs.test%20https%3a%2f%2fwww.googleapis.com%2fauth%2fdrive%20https%3a%2f%2fwww.googleapis.com%2fauth%2fdrive.photos.readonly%20https%3a%2f%2fwww.googleapis.com%2fauth%2fpeopleapi.readonly\n",
            "\n",
            "Enter your authorization code:\n",
            "··········\n",
            "Mounted at /content/drive\n"
          ],
          "name": "stdout"
        }
      ]
    },
    {
      "cell_type": "code",
      "metadata": {
        "id": "-azTDyCumO8H",
        "colab_type": "code",
        "outputId": "2f89c9d9-f8c3-41ee-918f-762d9f616a4c",
        "colab": {
          "base_uri": "https://localhost:8080/",
          "height": 224
        }
      },
      "source": [
        "!pip install nilearn"
      ],
      "execution_count": 4,
      "outputs": [
        {
          "output_type": "stream",
          "text": [
            "Collecting nilearn\n",
            "\u001b[?25l  Downloading https://files.pythonhosted.org/packages/b9/c2/f5f1bdd37a3da28b3b34305e4ba27cce468db6073998d62a38abd0e281da/nilearn-0.6.2-py3-none-any.whl (2.5MB)\n",
            "\u001b[K     |████████████████████████████████| 2.5MB 2.8MB/s \n",
            "\u001b[?25hRequirement already satisfied: scikit-learn>=0.19 in /usr/local/lib/python3.6/dist-packages (from nilearn) (0.22.2.post1)\n",
            "Requirement already satisfied: nibabel>=2.0.2 in /usr/local/lib/python3.6/dist-packages (from nilearn) (3.0.2)\n",
            "Requirement already satisfied: numpy>=1.11 in /usr/local/lib/python3.6/dist-packages (from nilearn) (1.18.2)\n",
            "Requirement already satisfied: joblib>=0.11 in /usr/local/lib/python3.6/dist-packages (from nilearn) (0.14.1)\n",
            "Requirement already satisfied: scipy>=0.19 in /usr/local/lib/python3.6/dist-packages (from nilearn) (1.4.1)\n",
            "Requirement already satisfied: sklearn in /usr/local/lib/python3.6/dist-packages (from nilearn) (0.0)\n",
            "Installing collected packages: nilearn\n",
            "Successfully installed nilearn-0.6.2\n"
          ],
          "name": "stdout"
        }
      ]
    },
    {
      "cell_type": "code",
      "metadata": {
        "id": "hgreif3GmEeg",
        "colab_type": "code",
        "colab": {}
      },
      "source": [
        "from IPython.core import display as ICD\n",
        "import pandas as pd\n",
        "import glob, os\n",
        "import seaborn as sns\n",
        "import nilearn\n",
        "from sklearn import svm\n",
        "import numpy as np\n",
        "from sklearn.model_selection import GridSearchCV, cross_val_score\n"
      ],
      "execution_count": 0,
      "outputs": []
    },
    {
      "cell_type": "code",
      "metadata": {
        "id": "CZoS_5_LmNgK",
        "colab_type": "code",
        "colab": {}
      },
      "source": [
        "# first we need to load the data file into a data frame \n",
        "\n",
        "multisite_df = pd.read_csv('drive/My Drive/Projects/pilot_mouse_connectivity/cocaine_two_mice/Spectrogram_data/updated_data/multisite_averaged_data.csv')"
      ],
      "execution_count": 0,
      "outputs": []
    },
    {
      "cell_type": "code",
      "metadata": {
        "id": "JS8aK0jYoRIe",
        "colab_type": "code",
        "outputId": "22aa6899-477f-4506-a5d4-63000166a61b",
        "colab": {
          "base_uri": "https://localhost:8080/",
          "height": 241
        }
      },
      "source": [
        "multisite_df.drop(\"Unnamed: 0\", axis=1,inplace=True)\n",
        "multisite_df.head()"
      ],
      "execution_count": 65,
      "outputs": [
        {
          "output_type": "execute_result",
          "data": {
            "text/html": [
              "<div>\n",
              "<style scoped>\n",
              "    .dataframe tbody tr th:only-of-type {\n",
              "        vertical-align: middle;\n",
              "    }\n",
              "\n",
              "    .dataframe tbody tr th {\n",
              "        vertical-align: top;\n",
              "    }\n",
              "\n",
              "    .dataframe thead th {\n",
              "        text-align: right;\n",
              "    }\n",
              "</style>\n",
              "<table border=\"1\" class=\"dataframe\">\n",
              "  <thead>\n",
              "    <tr style=\"text-align: right;\">\n",
              "      <th></th>\n",
              "      <th>PFC gamma</th>\n",
              "      <th>VTA gamma</th>\n",
              "      <th>BLA gamma</th>\n",
              "      <th>NAc gamma</th>\n",
              "      <th>PFC beta</th>\n",
              "      <th>VTA beta</th>\n",
              "      <th>BLA beta</th>\n",
              "      <th>NAc beta</th>\n",
              "      <th>PFC theta</th>\n",
              "      <th>VTA theta</th>\n",
              "      <th>BLA theta</th>\n",
              "      <th>NAc theta</th>\n",
              "      <th>reference wires</th>\n",
              "      <th>mouse id</th>\n",
              "      <th>Time (s)</th>\n",
              "      <th>Speed (cm/s)</th>\n",
              "      <th>cocaine status</th>\n",
              "      <th>recording</th>\n",
              "    </tr>\n",
              "  </thead>\n",
              "  <tbody>\n",
              "    <tr>\n",
              "      <th>0</th>\n",
              "      <td>-56.501194</td>\n",
              "      <td>-58.404691</td>\n",
              "      <td>-53.796707</td>\n",
              "      <td>-54.683450</td>\n",
              "      <td>-50.765295</td>\n",
              "      <td>-49.201600</td>\n",
              "      <td>-47.156084</td>\n",
              "      <td>-47.257051</td>\n",
              "      <td>-37.099407</td>\n",
              "      <td>-37.333310</td>\n",
              "      <td>-35.815629</td>\n",
              "      <td>-36.039001</td>\n",
              "      <td>31.250000</td>\n",
              "      <td>1</td>\n",
              "      <td>0</td>\n",
              "      <td>0.461047</td>\n",
              "      <td>post</td>\n",
              "      <td>1</td>\n",
              "    </tr>\n",
              "    <tr>\n",
              "      <th>1</th>\n",
              "      <td>-55.990462</td>\n",
              "      <td>-58.988152</td>\n",
              "      <td>-54.108313</td>\n",
              "      <td>-53.480236</td>\n",
              "      <td>-49.899241</td>\n",
              "      <td>-49.516848</td>\n",
              "      <td>-45.858436</td>\n",
              "      <td>-48.210181</td>\n",
              "      <td>-40.991329</td>\n",
              "      <td>-42.757552</td>\n",
              "      <td>-36.514741</td>\n",
              "      <td>-38.500080</td>\n",
              "      <td>-40.040267</td>\n",
              "      <td>1</td>\n",
              "      <td>1</td>\n",
              "      <td>0.482850</td>\n",
              "      <td>post</td>\n",
              "      <td>1</td>\n",
              "    </tr>\n",
              "    <tr>\n",
              "      <th>2</th>\n",
              "      <td>-56.533964</td>\n",
              "      <td>-56.703969</td>\n",
              "      <td>-53.713006</td>\n",
              "      <td>-53.388769</td>\n",
              "      <td>-47.988294</td>\n",
              "      <td>-47.911166</td>\n",
              "      <td>-45.839712</td>\n",
              "      <td>-44.819948</td>\n",
              "      <td>-36.329574</td>\n",
              "      <td>-36.786060</td>\n",
              "      <td>-34.261496</td>\n",
              "      <td>-38.705199</td>\n",
              "      <td>-46.110695</td>\n",
              "      <td>1</td>\n",
              "      <td>2</td>\n",
              "      <td>0.490247</td>\n",
              "      <td>post</td>\n",
              "      <td>1</td>\n",
              "    </tr>\n",
              "    <tr>\n",
              "      <th>3</th>\n",
              "      <td>-55.088293</td>\n",
              "      <td>-57.277582</td>\n",
              "      <td>-54.759970</td>\n",
              "      <td>-53.832872</td>\n",
              "      <td>-49.272411</td>\n",
              "      <td>-47.161322</td>\n",
              "      <td>-46.172072</td>\n",
              "      <td>-46.595272</td>\n",
              "      <td>-37.772853</td>\n",
              "      <td>-33.544189</td>\n",
              "      <td>-36.755222</td>\n",
              "      <td>-39.528779</td>\n",
              "      <td>-41.637959</td>\n",
              "      <td>1</td>\n",
              "      <td>3</td>\n",
              "      <td>0.485528</td>\n",
              "      <td>post</td>\n",
              "      <td>1</td>\n",
              "    </tr>\n",
              "    <tr>\n",
              "      <th>4</th>\n",
              "      <td>-56.064453</td>\n",
              "      <td>-56.391981</td>\n",
              "      <td>-54.370658</td>\n",
              "      <td>-54.151737</td>\n",
              "      <td>-48.075181</td>\n",
              "      <td>-44.963544</td>\n",
              "      <td>-47.350350</td>\n",
              "      <td>-44.067891</td>\n",
              "      <td>-41.780323</td>\n",
              "      <td>-37.090223</td>\n",
              "      <td>-37.366601</td>\n",
              "      <td>-36.990245</td>\n",
              "      <td>-39.613447</td>\n",
              "      <td>1</td>\n",
              "      <td>4</td>\n",
              "      <td>0.494177</td>\n",
              "      <td>post</td>\n",
              "      <td>1</td>\n",
              "    </tr>\n",
              "  </tbody>\n",
              "</table>\n",
              "</div>"
            ],
            "text/plain": [
              "   PFC gamma  VTA gamma  BLA gamma  ...  Speed (cm/s)  cocaine status  recording\n",
              "0 -56.501194 -58.404691 -53.796707  ...      0.461047            post          1\n",
              "1 -55.990462 -58.988152 -54.108313  ...      0.482850            post          1\n",
              "2 -56.533964 -56.703969 -53.713006  ...      0.490247            post          1\n",
              "3 -55.088293 -57.277582 -54.759970  ...      0.485528            post          1\n",
              "4 -56.064453 -56.391981 -54.370658  ...      0.494177            post          1\n",
              "\n",
              "[5 rows x 18 columns]"
            ]
          },
          "metadata": {
            "tags": []
          },
          "execution_count": 65
        }
      ]
    },
    {
      "cell_type": "code",
      "metadata": {
        "id": "fLpwPtsBo6O5",
        "colab_type": "code",
        "colab": {}
      },
      "source": [
        "#multisite_df.columns.values"
      ],
      "execution_count": 0,
      "outputs": []
    },
    {
      "cell_type": "code",
      "metadata": {
        "id": "q0BZXb1wqDCh",
        "colab_type": "code",
        "colab": {}
      },
      "source": [
        "# turn cocaine category labels into numerics, 0: post and 1: pre\n",
        "multisite_df['cocaine status'] = pd.factorize(multisite_df['cocaine status'])[0]\n"
      ],
      "execution_count": 0,
      "outputs": []
    },
    {
      "cell_type": "code",
      "metadata": {
        "id": "kPGSMo0Lob9Z",
        "colab_type": "code",
        "colab": {}
      },
      "source": [
        "multisite_df.fillna(multisite_df.mean(), inplace=True)"
      ],
      "execution_count": 0,
      "outputs": []
    },
    {
      "cell_type": "code",
      "metadata": {
        "id": "nWza5WynqeC7",
        "colab_type": "code",
        "outputId": "e82b38e9-ac0b-4507-dcd9-b05f5fdb9c60",
        "colab": {
          "base_uri": "https://localhost:8080/",
          "height": 241
        }
      },
      "source": [
        "multisite_df.tail()"
      ],
      "execution_count": 69,
      "outputs": [
        {
          "output_type": "execute_result",
          "data": {
            "text/html": [
              "<div>\n",
              "<style scoped>\n",
              "    .dataframe tbody tr th:only-of-type {\n",
              "        vertical-align: middle;\n",
              "    }\n",
              "\n",
              "    .dataframe tbody tr th {\n",
              "        vertical-align: top;\n",
              "    }\n",
              "\n",
              "    .dataframe thead th {\n",
              "        text-align: right;\n",
              "    }\n",
              "</style>\n",
              "<table border=\"1\" class=\"dataframe\">\n",
              "  <thead>\n",
              "    <tr style=\"text-align: right;\">\n",
              "      <th></th>\n",
              "      <th>PFC gamma</th>\n",
              "      <th>VTA gamma</th>\n",
              "      <th>BLA gamma</th>\n",
              "      <th>NAc gamma</th>\n",
              "      <th>PFC beta</th>\n",
              "      <th>VTA beta</th>\n",
              "      <th>BLA beta</th>\n",
              "      <th>NAc beta</th>\n",
              "      <th>PFC theta</th>\n",
              "      <th>VTA theta</th>\n",
              "      <th>BLA theta</th>\n",
              "      <th>NAc theta</th>\n",
              "      <th>reference wires</th>\n",
              "      <th>mouse id</th>\n",
              "      <th>Time (s)</th>\n",
              "      <th>Speed (cm/s)</th>\n",
              "      <th>cocaine status</th>\n",
              "      <th>recording</th>\n",
              "    </tr>\n",
              "  </thead>\n",
              "  <tbody>\n",
              "    <tr>\n",
              "      <th>14395</th>\n",
              "      <td>-57.945512</td>\n",
              "      <td>-60.610124</td>\n",
              "      <td>-54.832686</td>\n",
              "      <td>-54.930917</td>\n",
              "      <td>-53.453498</td>\n",
              "      <td>-54.694912</td>\n",
              "      <td>-48.215670</td>\n",
              "      <td>-54.100591</td>\n",
              "      <td>-45.402066</td>\n",
              "      <td>-43.293175</td>\n",
              "      <td>-41.552947</td>\n",
              "      <td>-44.923270</td>\n",
              "      <td>-56.379793</td>\n",
              "      <td>1</td>\n",
              "      <td>1795</td>\n",
              "      <td>1.145819</td>\n",
              "      <td>1</td>\n",
              "      <td>2</td>\n",
              "    </tr>\n",
              "    <tr>\n",
              "      <th>14396</th>\n",
              "      <td>-57.283914</td>\n",
              "      <td>-61.857844</td>\n",
              "      <td>-53.046077</td>\n",
              "      <td>-56.369021</td>\n",
              "      <td>-53.506348</td>\n",
              "      <td>-52.885991</td>\n",
              "      <td>-44.472734</td>\n",
              "      <td>-46.909043</td>\n",
              "      <td>-36.616661</td>\n",
              "      <td>-43.950709</td>\n",
              "      <td>-33.409286</td>\n",
              "      <td>-38.811592</td>\n",
              "      <td>-56.379793</td>\n",
              "      <td>1</td>\n",
              "      <td>1796</td>\n",
              "      <td>0.167269</td>\n",
              "      <td>1</td>\n",
              "      <td>2</td>\n",
              "    </tr>\n",
              "    <tr>\n",
              "      <th>14397</th>\n",
              "      <td>-57.621165</td>\n",
              "      <td>-62.037227</td>\n",
              "      <td>-54.470172</td>\n",
              "      <td>-56.285570</td>\n",
              "      <td>-50.645157</td>\n",
              "      <td>-48.306280</td>\n",
              "      <td>-46.802928</td>\n",
              "      <td>-46.783425</td>\n",
              "      <td>-46.357364</td>\n",
              "      <td>-41.330419</td>\n",
              "      <td>-36.800070</td>\n",
              "      <td>-37.888468</td>\n",
              "      <td>-56.379793</td>\n",
              "      <td>1</td>\n",
              "      <td>1797</td>\n",
              "      <td>0.155295</td>\n",
              "      <td>1</td>\n",
              "      <td>2</td>\n",
              "    </tr>\n",
              "    <tr>\n",
              "      <th>14398</th>\n",
              "      <td>-59.532244</td>\n",
              "      <td>-61.890011</td>\n",
              "      <td>-54.634515</td>\n",
              "      <td>-54.805142</td>\n",
              "      <td>-51.794797</td>\n",
              "      <td>-54.021217</td>\n",
              "      <td>-47.390373</td>\n",
              "      <td>-51.180051</td>\n",
              "      <td>-48.041564</td>\n",
              "      <td>-42.124833</td>\n",
              "      <td>-35.664824</td>\n",
              "      <td>-40.147725</td>\n",
              "      <td>-56.379793</td>\n",
              "      <td>1</td>\n",
              "      <td>1798</td>\n",
              "      <td>0.004777</td>\n",
              "      <td>1</td>\n",
              "      <td>2</td>\n",
              "    </tr>\n",
              "    <tr>\n",
              "      <th>14399</th>\n",
              "      <td>-58.429392</td>\n",
              "      <td>-62.086589</td>\n",
              "      <td>-54.455730</td>\n",
              "      <td>-56.122061</td>\n",
              "      <td>-47.567010</td>\n",
              "      <td>-49.108323</td>\n",
              "      <td>-46.107437</td>\n",
              "      <td>-52.037337</td>\n",
              "      <td>-41.694312</td>\n",
              "      <td>-42.653839</td>\n",
              "      <td>-33.130993</td>\n",
              "      <td>-40.041810</td>\n",
              "      <td>-56.379793</td>\n",
              "      <td>1</td>\n",
              "      <td>1799</td>\n",
              "      <td>0.000000</td>\n",
              "      <td>1</td>\n",
              "      <td>2</td>\n",
              "    </tr>\n",
              "  </tbody>\n",
              "</table>\n",
              "</div>"
            ],
            "text/plain": [
              "       PFC gamma  VTA gamma  BLA gamma  ...  Speed (cm/s)  cocaine status  recording\n",
              "14395 -57.945512 -60.610124 -54.832686  ...      1.145819               1          2\n",
              "14396 -57.283914 -61.857844 -53.046077  ...      0.167269               1          2\n",
              "14397 -57.621165 -62.037227 -54.470172  ...      0.155295               1          2\n",
              "14398 -59.532244 -61.890011 -54.634515  ...      0.004777               1          2\n",
              "14399 -58.429392 -62.086589 -54.455730  ...      0.000000               1          2\n",
              "\n",
              "[5 rows x 18 columns]"
            ]
          },
          "metadata": {
            "tags": []
          },
          "execution_count": 69
        }
      ]
    },
    {
      "cell_type": "code",
      "metadata": {
        "id": "t6BQzIFGro0P",
        "colab_type": "code",
        "colab": {}
      },
      "source": [
        "from sklearn.preprocessing import MinMaxScaler\n",
        "scaler = MinMaxScaler()\n",
        "multisite_df[['PFC gamma', 'VTA gamma', 'BLA gamma', 'NAc gamma',\n",
        "       'PFC beta', 'VTA beta', 'BLA beta', 'NAc beta', 'PFC theta',\n",
        "       'VTA theta', 'BLA theta', 'NAc theta', 'reference wires']] = scaler.fit_transform(multisite_df[['PFC gamma', 'VTA gamma', 'BLA gamma', 'NAc gamma',\n",
        "                                                                                                       'PFC beta', 'VTA beta', 'BLA beta', 'NAc beta', 'PFC theta',\n",
        "                                                                                                       'VTA theta', 'BLA theta', 'NAc theta', 'reference wires']])"
      ],
      "execution_count": 0,
      "outputs": []
    },
    {
      "cell_type": "code",
      "metadata": {
        "id": "k_h-Ciqlrvm7",
        "colab_type": "code",
        "outputId": "1aac46a5-616c-4dbc-f482-babbc2987243",
        "colab": {
          "base_uri": "https://localhost:8080/",
          "height": 241
        }
      },
      "source": [
        "multisite_df.tail()"
      ],
      "execution_count": 71,
      "outputs": [
        {
          "output_type": "execute_result",
          "data": {
            "text/html": [
              "<div>\n",
              "<style scoped>\n",
              "    .dataframe tbody tr th:only-of-type {\n",
              "        vertical-align: middle;\n",
              "    }\n",
              "\n",
              "    .dataframe tbody tr th {\n",
              "        vertical-align: top;\n",
              "    }\n",
              "\n",
              "    .dataframe thead th {\n",
              "        text-align: right;\n",
              "    }\n",
              "</style>\n",
              "<table border=\"1\" class=\"dataframe\">\n",
              "  <thead>\n",
              "    <tr style=\"text-align: right;\">\n",
              "      <th></th>\n",
              "      <th>PFC gamma</th>\n",
              "      <th>VTA gamma</th>\n",
              "      <th>BLA gamma</th>\n",
              "      <th>NAc gamma</th>\n",
              "      <th>PFC beta</th>\n",
              "      <th>VTA beta</th>\n",
              "      <th>BLA beta</th>\n",
              "      <th>NAc beta</th>\n",
              "      <th>PFC theta</th>\n",
              "      <th>VTA theta</th>\n",
              "      <th>BLA theta</th>\n",
              "      <th>NAc theta</th>\n",
              "      <th>reference wires</th>\n",
              "      <th>mouse id</th>\n",
              "      <th>Time (s)</th>\n",
              "      <th>Speed (cm/s)</th>\n",
              "      <th>cocaine status</th>\n",
              "      <th>recording</th>\n",
              "    </tr>\n",
              "  </thead>\n",
              "  <tbody>\n",
              "    <tr>\n",
              "      <th>14395</th>\n",
              "      <td>0.160803</td>\n",
              "      <td>0.098663</td>\n",
              "      <td>0.379112</td>\n",
              "      <td>0.435232</td>\n",
              "      <td>0.116256</td>\n",
              "      <td>0.096596</td>\n",
              "      <td>0.365786</td>\n",
              "      <td>0.217770</td>\n",
              "      <td>0.279710</td>\n",
              "      <td>0.291921</td>\n",
              "      <td>0.411115</td>\n",
              "      <td>0.285573</td>\n",
              "      <td>0.274108</td>\n",
              "      <td>1</td>\n",
              "      <td>1795</td>\n",
              "      <td>1.145819</td>\n",
              "      <td>1</td>\n",
              "      <td>2</td>\n",
              "    </tr>\n",
              "    <tr>\n",
              "      <th>14396</th>\n",
              "      <td>0.181986</td>\n",
              "      <td>0.068729</td>\n",
              "      <td>0.430632</td>\n",
              "      <td>0.385932</td>\n",
              "      <td>0.114759</td>\n",
              "      <td>0.148119</td>\n",
              "      <td>0.458901</td>\n",
              "      <td>0.440185</td>\n",
              "      <td>0.478738</td>\n",
              "      <td>0.274591</td>\n",
              "      <td>0.601804</td>\n",
              "      <td>0.449501</td>\n",
              "      <td>0.274108</td>\n",
              "      <td>1</td>\n",
              "      <td>1796</td>\n",
              "      <td>0.167269</td>\n",
              "      <td>1</td>\n",
              "      <td>2</td>\n",
              "    </tr>\n",
              "    <tr>\n",
              "      <th>14397</th>\n",
              "      <td>0.171188</td>\n",
              "      <td>0.064426</td>\n",
              "      <td>0.389566</td>\n",
              "      <td>0.388793</td>\n",
              "      <td>0.195808</td>\n",
              "      <td>0.278560</td>\n",
              "      <td>0.400931</td>\n",
              "      <td>0.444070</td>\n",
              "      <td>0.258068</td>\n",
              "      <td>0.343653</td>\n",
              "      <td>0.522407</td>\n",
              "      <td>0.474261</td>\n",
              "      <td>0.274108</td>\n",
              "      <td>1</td>\n",
              "      <td>1797</td>\n",
              "      <td>0.155295</td>\n",
              "      <td>1</td>\n",
              "      <td>2</td>\n",
              "    </tr>\n",
              "    <tr>\n",
              "      <th>14398</th>\n",
              "      <td>0.109998</td>\n",
              "      <td>0.067958</td>\n",
              "      <td>0.384827</td>\n",
              "      <td>0.439544</td>\n",
              "      <td>0.163242</td>\n",
              "      <td>0.115785</td>\n",
              "      <td>0.386317</td>\n",
              "      <td>0.308095</td>\n",
              "      <td>0.219913</td>\n",
              "      <td>0.322715</td>\n",
              "      <td>0.548989</td>\n",
              "      <td>0.413663</td>\n",
              "      <td>0.274108</td>\n",
              "      <td>1</td>\n",
              "      <td>1798</td>\n",
              "      <td>0.004777</td>\n",
              "      <td>1</td>\n",
              "      <td>2</td>\n",
              "    </tr>\n",
              "    <tr>\n",
              "      <th>14399</th>\n",
              "      <td>0.145310</td>\n",
              "      <td>0.063242</td>\n",
              "      <td>0.389982</td>\n",
              "      <td>0.394398</td>\n",
              "      <td>0.283002</td>\n",
              "      <td>0.255716</td>\n",
              "      <td>0.418233</td>\n",
              "      <td>0.281581</td>\n",
              "      <td>0.363707</td>\n",
              "      <td>0.308772</td>\n",
              "      <td>0.608321</td>\n",
              "      <td>0.416504</td>\n",
              "      <td>0.274108</td>\n",
              "      <td>1</td>\n",
              "      <td>1799</td>\n",
              "      <td>0.000000</td>\n",
              "      <td>1</td>\n",
              "      <td>2</td>\n",
              "    </tr>\n",
              "  </tbody>\n",
              "</table>\n",
              "</div>"
            ],
            "text/plain": [
              "       PFC gamma  VTA gamma  BLA gamma  ...  Speed (cm/s)  cocaine status  recording\n",
              "14395   0.160803   0.098663   0.379112  ...      1.145819               1          2\n",
              "14396   0.181986   0.068729   0.430632  ...      0.167269               1          2\n",
              "14397   0.171188   0.064426   0.389566  ...      0.155295               1          2\n",
              "14398   0.109998   0.067958   0.384827  ...      0.004777               1          2\n",
              "14399   0.145310   0.063242   0.389982  ...      0.000000               1          2\n",
              "\n",
              "[5 rows x 18 columns]"
            ]
          },
          "metadata": {
            "tags": []
          },
          "execution_count": 71
        }
      ]
    },
    {
      "cell_type": "markdown",
      "metadata": {
        "id": "fIF21ppJm9Qs",
        "colab_type": "text"
      },
      "source": [
        "## Decoding cocaine status based on gamma  \n"
      ]
    },
    {
      "cell_type": "code",
      "metadata": {
        "id": "XUsBQmfhok-P",
        "colab_type": "code",
        "colab": {}
      },
      "source": [
        "# prepare data for decoding\n",
        "# pull out gamma columns  \n",
        "X=multisite_df[['PFC gamma', 'VTA gamma', 'BLA gamma', 'NAc gamma',\n",
        "     'reference wires', 'mouse id', 'Time (s)', 'Speed (cm/s)','cocaine status']].to_numpy()"
      ],
      "execution_count": 0,
      "outputs": []
    },
    {
      "cell_type": "code",
      "metadata": {
        "id": "jc5BtL0hpQq7",
        "colab_type": "code",
        "outputId": "f8ffe2a1-feea-41a5-ba21-89b96b26574d",
        "colab": {
          "base_uri": "https://localhost:8080/",
          "height": 34
        }
      },
      "source": [
        "X.shape"
      ],
      "execution_count": 73,
      "outputs": [
        {
          "output_type": "execute_result",
          "data": {
            "text/plain": [
              "(14400, 8)"
            ]
          },
          "metadata": {
            "tags": []
          },
          "execution_count": 73
        }
      ]
    },
    {
      "cell_type": "code",
      "metadata": {
        "id": "FfdFc6oIpT0e",
        "colab_type": "code",
        "colab": {}
      },
      "source": [
        "y=multisite_df['cocaine status']"
      ],
      "execution_count": 0,
      "outputs": []
    },
    {
      "cell_type": "code",
      "metadata": {
        "id": "YEzR-EWeiC_M",
        "colab_type": "code",
        "colab": {
          "base_uri": "https://localhost:8080/",
          "height": 282
        },
        "outputId": "a003c082-063f-40ce-8e84-453cda4f4b57"
      },
      "source": [
        "from matplotlib import pyplot as plt\n",
        "\n",
        "plt.scatter(X[:, 0], X[:, 1], c=y, cmap='winter')\n"
      ],
      "execution_count": 96,
      "outputs": [
        {
          "output_type": "execute_result",
          "data": {
            "text/plain": [
              "<matplotlib.collections.PathCollection at 0x7f0ce5a6fef0>"
            ]
          },
          "metadata": {
            "tags": []
          },
          "execution_count": 96
        },
        {
          "output_type": "display_data",
          "data": {
            "image/png": "[encoded data removed]",
            "text/plain": [
              "<Figure size 432x288 with 1 Axes>"
            ]
          },
          "metadata": {
            "tags": [],
            "needs_background": "light"
          }
        }
      ]
    },
    {
      "cell_type": "code",
      "metadata": {
        "id": "bE-egPd5jlI5",
        "colab_type": "code",
        "colab": {
          "base_uri": "https://localhost:8080/",
          "height": 85
        },
        "outputId": "6e005c25-7941-483e-d082-f9dd760c2e49"
      },
      "source": [
        "X[:, 0],X[:, 1]"
      ],
      "execution_count": 92,
      "outputs": [
        {
          "output_type": "execute_result",
          "data": {
            "text/plain": [
              "(array([0.20704802, 0.22340096, 0.20599879, ..., 0.17118811, 0.10999802,\n",
              "        0.14530979]),\n",
              " array([0.15157223, 0.13757469, 0.19237344, ..., 0.06442577, 0.06795756,\n",
              "        0.06324156]))"
            ]
          },
          "metadata": {
            "tags": []
          },
          "execution_count": 92
        }
      ]
    },
    {
      "cell_type": "code",
      "metadata": {
        "id": "CIQnL8uOj3PL",
        "colab_type": "code",
        "colab": {}
      },
      "source": [
        "from sklearn.model_selection import train_test_split\n",
        "\n",
        "X_train, X_test, y_train, y_test = train_test_split(X, y, random_state=0)"
      ],
      "execution_count": 0,
      "outputs": []
    },
    {
      "cell_type": "code",
      "metadata": {
        "id": "IqcCjMzjplR8",
        "colab_type": "code",
        "outputId": "3c85e9f8-04e0-41df-98da-b072744e5a97",
        "colab": {
          "base_uri": "https://localhost:8080/",
          "height": 85
        }
      },
      "source": [
        "clf = svm.SVC()\n",
        "clf.fit(X_train, y_train)"
      ],
      "execution_count": 99,
      "outputs": [
        {
          "output_type": "execute_result",
          "data": {
            "text/plain": [
              "SVC(C=1.0, break_ties=False, cache_size=200, class_weight=None, coef0=0.0,\n",
              "    decision_function_shape='ovr', degree=3, gamma='scale', kernel='rbf',\n",
              "    max_iter=-1, probability=False, random_state=None, shrinking=True,\n",
              "    tol=0.001, verbose=False)"
            ]
          },
          "metadata": {
            "tags": []
          },
          "execution_count": 99
        }
      ]
    },
    {
      "cell_type": "code",
      "metadata": {
        "id": "FKYm_zMYpmOr",
        "colab_type": "code",
        "colab": {}
      },
      "source": [
        "y_pred=clf.predict(X_train)"
      ],
      "execution_count": 0,
      "outputs": []
    },
    {
      "cell_type": "code",
      "metadata": {
        "id": "3pOj2zKyhsW8",
        "colab_type": "code",
        "colab": {
          "base_uri": "https://localhost:8080/",
          "height": 34
        },
        "outputId": "d3cbf7ee-f158-48ba-8913-a29918a122a8"
      },
      "source": [
        "y_pred[0:20]"
      ],
      "execution_count": 101,
      "outputs": [
        {
          "output_type": "execute_result",
          "data": {
            "text/plain": [
              "array([1, 1, 1, 1, 1, 1, 1, 1, 0, 1, 1, 0, 1, 0, 1, 1, 1, 1, 1, 1])"
            ]
          },
          "metadata": {
            "tags": []
          },
          "execution_count": 101
        }
      ]
    },
    {
      "cell_type": "code",
      "metadata": {
        "id": "sk1wcUyztpUG",
        "colab_type": "code",
        "outputId": "1d9d5e99-0273-43a5-eb18-65a718a3a232",
        "colab": {
          "base_uri": "https://localhost:8080/",
          "height": 374
        }
      },
      "source": [
        "from sklearn.model_selection import GridSearchCV, cross_val_score\n",
        "# We are going to tune the parameter 'k' of the step called 'anova' in\n",
        "# the pipeline. Thus we need to address it as 'svc__k'.\n",
        "k_range = [10, 15, 30, 50, 150, 300, 500, 1000, 1500, 3000, 5000]\n",
        "\n",
        "\n",
        "grid = GridSearchCV(clf, param_grid={'C': k_range}, verbose=1, n_jobs=4)\n",
        "nested_cv_scores = cross_val_score(grid, X_test, y_test, cv=5)\n",
        "print(\"Nested CV score: %.4f\" % np.mean(nested_cv_scores))\n"
      ],
      "execution_count": 102,
      "outputs": [
        {
          "output_type": "stream",
          "text": [
            "Fitting 5 folds for each of 11 candidates, totalling 55 fits\n"
          ],
          "name": "stdout"
        },
        {
          "output_type": "stream",
          "text": [
            "[Parallel(n_jobs=4)]: Using backend LokyBackend with 4 concurrent workers.\n",
            "[Parallel(n_jobs=4)]: Done  42 tasks      | elapsed:   11.1s\n",
            "[Parallel(n_jobs=4)]: Done  55 out of  55 | elapsed:   14.2s finished\n"
          ],
          "name": "stderr"
        },
        {
          "output_type": "stream",
          "text": [
            "Fitting 5 folds for each of 11 candidates, totalling 55 fits\n"
          ],
          "name": "stdout"
        },
        {
          "output_type": "stream",
          "text": [
            "[Parallel(n_jobs=4)]: Using backend LokyBackend with 4 concurrent workers.\n",
            "[Parallel(n_jobs=4)]: Done  42 tasks      | elapsed:    8.6s\n",
            "[Parallel(n_jobs=4)]: Done  55 out of  55 | elapsed:   11.8s finished\n"
          ],
          "name": "stderr"
        },
        {
          "output_type": "stream",
          "text": [
            "Fitting 5 folds for each of 11 candidates, totalling 55 fits\n"
          ],
          "name": "stdout"
        },
        {
          "output_type": "stream",
          "text": [
            "[Parallel(n_jobs=4)]: Using backend LokyBackend with 4 concurrent workers.\n",
            "[Parallel(n_jobs=4)]: Done  42 tasks      | elapsed:    8.5s\n",
            "[Parallel(n_jobs=4)]: Done  55 out of  55 | elapsed:   11.4s finished\n"
          ],
          "name": "stderr"
        },
        {
          "output_type": "stream",
          "text": [
            "Fitting 5 folds for each of 11 candidates, totalling 55 fits\n"
          ],
          "name": "stdout"
        },
        {
          "output_type": "stream",
          "text": [
            "[Parallel(n_jobs=4)]: Using backend LokyBackend with 4 concurrent workers.\n",
            "[Parallel(n_jobs=4)]: Done  42 tasks      | elapsed:    8.4s\n",
            "[Parallel(n_jobs=4)]: Done  55 out of  55 | elapsed:   11.5s finished\n"
          ],
          "name": "stderr"
        },
        {
          "output_type": "stream",
          "text": [
            "Fitting 5 folds for each of 11 candidates, totalling 55 fits\n"
          ],
          "name": "stdout"
        },
        {
          "output_type": "stream",
          "text": [
            "[Parallel(n_jobs=4)]: Using backend LokyBackend with 4 concurrent workers.\n",
            "[Parallel(n_jobs=4)]: Done  42 tasks      | elapsed:    9.0s\n",
            "[Parallel(n_jobs=4)]: Done  55 out of  55 | elapsed:   12.5s finished\n"
          ],
          "name": "stderr"
        },
        {
          "output_type": "stream",
          "text": [
            "Nested CV score: 0.8422\n"
          ],
          "name": "stdout"
        }
      ]
    },
    {
      "cell_type": "code",
      "metadata": {
        "id": "7oJmvvgutsIR",
        "colab_type": "code",
        "colab": {
          "base_uri": "https://localhost:8080/",
          "height": 232
        },
        "outputId": "d1d25521-7c66-43ea-84a1-e84672c94914"
      },
      "source": [
        "from mlxtend.plotting import plot_decision_regions\n",
        "\n",
        "# Plot Decision Region using mlxtend's awesome plotting function\n",
        "plot_decision_regions(X=X_test.values, \n",
        "                      y=y_test.values,\n",
        "                      clf=clf, \n",
        "                      legend=2)\n",
        "\n",
        "# Update plot object with X/Y axis labels and Figure Title\n",
        "plt.xlabel(X_test.columns[0], size=14)\n",
        "plt.ylabel(X_test.columns[1], size=14)\n",
        "plt.title('SVM Decision Region Boundary', size=16)"
      ],
      "execution_count": 104,
      "outputs": [
        {
          "output_type": "error",
          "ename": "AttributeError",
          "evalue": "ignored",
          "traceback": [
            "\u001b[0;31m---------------------------------------------------------------------------\u001b[0m",
            "\u001b[0;31mAttributeError\u001b[0m                            Traceback (most recent call last)",
            "\u001b[0;32m<ipython-input-104-aba3022dd218>\u001b[0m in \u001b[0;36m<module>\u001b[0;34m()\u001b[0m\n\u001b[1;32m      2\u001b[0m \u001b[0;34m\u001b[0m\u001b[0m\n\u001b[1;32m      3\u001b[0m \u001b[0;31m# Plot Decision Region using mlxtend's awesome plotting function\u001b[0m\u001b[0;34m\u001b[0m\u001b[0;34m\u001b[0m\u001b[0;34m\u001b[0m\u001b[0m\n\u001b[0;32m----> 4\u001b[0;31m plot_decision_regions(X=X_test.values, \n\u001b[0m\u001b[1;32m      5\u001b[0m                       \u001b[0my\u001b[0m\u001b[0;34m=\u001b[0m\u001b[0my_test\u001b[0m\u001b[0;34m.\u001b[0m\u001b[0mvalues\u001b[0m\u001b[0;34m,\u001b[0m\u001b[0;34m\u001b[0m\u001b[0;34m\u001b[0m\u001b[0m\n\u001b[1;32m      6\u001b[0m                       \u001b[0mclf\u001b[0m\u001b[0;34m=\u001b[0m\u001b[0mclf\u001b[0m\u001b[0;34m,\u001b[0m\u001b[0;34m\u001b[0m\u001b[0;34m\u001b[0m\u001b[0m\n",
            "\u001b[0;31mAttributeError\u001b[0m: 'numpy.ndarray' object has no attribute 'values'"
          ]
        }
      ]
    },
    {
      "cell_type": "code",
      "metadata": {
        "id": "Rx3YzAlZgv3V",
        "colab_type": "code",
        "colab": {}
      },
      "source": [
        ""
      ],
      "execution_count": 0,
      "outputs": []
    }
  ]
}