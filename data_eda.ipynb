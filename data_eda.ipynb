{
  "nbformat": 4,
  "nbformat_minor": 0,
  "metadata": {
    "colab": {
      "name": "data_eda.ipynb",
      "provenance": [],
      "collapsed_sections": []
    },
    "kernelspec": {
      "name": "python3",
      "display_name": "Python 3"
    }
  },
  "cells": [
    {
      "cell_type": "markdown",
      "metadata": {
        "id": "l9YzwLnMza1a",
        "colab_type": "text"
      },
      "source": [
        "# Data EDA "
      ]
    },
    {
      "cell_type": "code",
      "metadata": {
        "id": "5T48CvMCue8P",
        "colab_type": "code",
        "colab": {
          "base_uri": "https://localhost:8080/",
          "height": 122
        },
        "outputId": "eaee8b59-2340-4fdb-c5e1-379bdbfb5406"
      },
      "source": [
        "from google.colab import drive\n",
        "drive.mount('/content/drive')"
      ],
      "execution_count": 1,
      "outputs": [
        {
          "output_type": "stream",
          "text": [
            "Go to this URL in a browser: https://accounts.google.com/o/oauth2/auth?client_id=947318989803-6bn6qk8qdgf4n4g3pfee6491hc0brc4i.apps.googleusercontent.com&redirect_uri=urn%3aietf%3awg%3aoauth%3a2.0%3aoob&response_type=code&scope=email%20https%3a%2f%2fwww.googleapis.com%2fauth%2fdocs.test%20https%3a%2f%2fwww.googleapis.com%2fauth%2fdrive%20https%3a%2f%2fwww.googleapis.com%2fauth%2fdrive.photos.readonly%20https%3a%2f%2fwww.googleapis.com%2fauth%2fpeopleapi.readonly\n",
            "\n",
            "Enter your authorization code:\n",
            "··········\n",
            "Mounted at /content/drive\n"
          ],
          "name": "stdout"
        }
      ]
    },
    {
      "cell_type": "code",
      "metadata": {
        "id": "0Rmi_Db9yGym",
        "colab_type": "code",
        "colab": {}
      },
      "source": [
        "from IPython.core import display as ICD\n",
        "import pandas as pd\n",
        "import glob, os\n",
        "import seaborn as sns\n",
        "from sklearn import svm\n",
        "import numpy as np\n",
        "from sklearn.preprocessing import MinMaxScaler\n",
        "from matplotlib import pyplot as plt\n"
      ],
      "execution_count": 0,
      "outputs": []
    },
    {
      "cell_type": "code",
      "metadata": {
        "id": "qehKWRSCyIgv",
        "colab_type": "code",
        "colab": {}
      },
      "source": [
        "multisite_df = pd.read_csv('drive/My Drive/Projects/pilot_mouse_connectivity/cocaine_two_mice/Spectrogram_data/updated_data/multisite_averaged_data.csv')"
      ],
      "execution_count": 0,
      "outputs": []
    },
    {
      "cell_type": "code",
      "metadata": {
        "id": "3IHuL_Ht0pnv",
        "colab_type": "code",
        "colab": {
          "base_uri": "https://localhost:8080/",
          "height": 241
        },
        "outputId": "fdf47e79-0aec-4c07-9d83-5f2030d99f8e"
      },
      "source": [
        "multisite_df.drop(\"Unnamed: 0\", axis=1,inplace=True)\n",
        "multisite_df.tail()"
      ],
      "execution_count": 70,
      "outputs": [
        {
          "output_type": "execute_result",
          "data": {
            "text/html": [
              "<div>\n",
              "<style scoped>\n",
              "    .dataframe tbody tr th:only-of-type {\n",
              "        vertical-align: middle;\n",
              "    }\n",
              "\n",
              "    .dataframe tbody tr th {\n",
              "        vertical-align: top;\n",
              "    }\n",
              "\n",
              "    .dataframe thead th {\n",
              "        text-align: right;\n",
              "    }\n",
              "</style>\n",
              "<table border=\"1\" class=\"dataframe\">\n",
              "  <thead>\n",
              "    <tr style=\"text-align: right;\">\n",
              "      <th></th>\n",
              "      <th>PFC gamma</th>\n",
              "      <th>VTA gamma</th>\n",
              "      <th>BLA gamma</th>\n",
              "      <th>NAc gamma</th>\n",
              "      <th>PFC beta</th>\n",
              "      <th>VTA beta</th>\n",
              "      <th>BLA beta</th>\n",
              "      <th>NAc beta</th>\n",
              "      <th>PFC theta</th>\n",
              "      <th>VTA theta</th>\n",
              "      <th>BLA theta</th>\n",
              "      <th>NAc theta</th>\n",
              "      <th>reference wires</th>\n",
              "      <th>mouse id</th>\n",
              "      <th>Time (s)</th>\n",
              "      <th>Speed (cm/s)</th>\n",
              "      <th>cocaine status</th>\n",
              "      <th>recording</th>\n",
              "    </tr>\n",
              "  </thead>\n",
              "  <tbody>\n",
              "    <tr>\n",
              "      <th>14395</th>\n",
              "      <td>-57.945512</td>\n",
              "      <td>-60.610124</td>\n",
              "      <td>-54.832686</td>\n",
              "      <td>-54.930917</td>\n",
              "      <td>-53.453498</td>\n",
              "      <td>-54.694912</td>\n",
              "      <td>-48.215670</td>\n",
              "      <td>-54.100591</td>\n",
              "      <td>-45.402066</td>\n",
              "      <td>-43.293175</td>\n",
              "      <td>-41.552947</td>\n",
              "      <td>-44.923270</td>\n",
              "      <td>NaN</td>\n",
              "      <td>1</td>\n",
              "      <td>1795</td>\n",
              "      <td>1.145819</td>\n",
              "      <td>pre</td>\n",
              "      <td>2</td>\n",
              "    </tr>\n",
              "    <tr>\n",
              "      <th>14396</th>\n",
              "      <td>-57.283914</td>\n",
              "      <td>-61.857844</td>\n",
              "      <td>-53.046077</td>\n",
              "      <td>-56.369021</td>\n",
              "      <td>-53.506348</td>\n",
              "      <td>-52.885991</td>\n",
              "      <td>-44.472734</td>\n",
              "      <td>-46.909043</td>\n",
              "      <td>-36.616661</td>\n",
              "      <td>-43.950709</td>\n",
              "      <td>-33.409286</td>\n",
              "      <td>-38.811592</td>\n",
              "      <td>NaN</td>\n",
              "      <td>1</td>\n",
              "      <td>1796</td>\n",
              "      <td>0.167269</td>\n",
              "      <td>pre</td>\n",
              "      <td>2</td>\n",
              "    </tr>\n",
              "    <tr>\n",
              "      <th>14397</th>\n",
              "      <td>-57.621165</td>\n",
              "      <td>-62.037227</td>\n",
              "      <td>-54.470172</td>\n",
              "      <td>-56.285570</td>\n",
              "      <td>-50.645157</td>\n",
              "      <td>-48.306280</td>\n",
              "      <td>-46.802928</td>\n",
              "      <td>-46.783425</td>\n",
              "      <td>-46.357364</td>\n",
              "      <td>-41.330419</td>\n",
              "      <td>-36.800070</td>\n",
              "      <td>-37.888468</td>\n",
              "      <td>NaN</td>\n",
              "      <td>1</td>\n",
              "      <td>1797</td>\n",
              "      <td>0.155295</td>\n",
              "      <td>pre</td>\n",
              "      <td>2</td>\n",
              "    </tr>\n",
              "    <tr>\n",
              "      <th>14398</th>\n",
              "      <td>-59.532244</td>\n",
              "      <td>-61.890011</td>\n",
              "      <td>-54.634515</td>\n",
              "      <td>-54.805142</td>\n",
              "      <td>-51.794797</td>\n",
              "      <td>-54.021217</td>\n",
              "      <td>-47.390373</td>\n",
              "      <td>-51.180051</td>\n",
              "      <td>-48.041564</td>\n",
              "      <td>-42.124833</td>\n",
              "      <td>-35.664824</td>\n",
              "      <td>-40.147725</td>\n",
              "      <td>NaN</td>\n",
              "      <td>1</td>\n",
              "      <td>1798</td>\n",
              "      <td>0.004777</td>\n",
              "      <td>pre</td>\n",
              "      <td>2</td>\n",
              "    </tr>\n",
              "    <tr>\n",
              "      <th>14399</th>\n",
              "      <td>-58.429392</td>\n",
              "      <td>-62.086589</td>\n",
              "      <td>-54.455730</td>\n",
              "      <td>-56.122061</td>\n",
              "      <td>-47.567010</td>\n",
              "      <td>-49.108323</td>\n",
              "      <td>-46.107437</td>\n",
              "      <td>-52.037337</td>\n",
              "      <td>-41.694312</td>\n",
              "      <td>-42.653839</td>\n",
              "      <td>-33.130993</td>\n",
              "      <td>-40.041810</td>\n",
              "      <td>NaN</td>\n",
              "      <td>1</td>\n",
              "      <td>1799</td>\n",
              "      <td>0.000000</td>\n",
              "      <td>pre</td>\n",
              "      <td>2</td>\n",
              "    </tr>\n",
              "  </tbody>\n",
              "</table>\n",
              "</div>"
            ],
            "text/plain": [
              "       PFC gamma  VTA gamma  BLA gamma  ...  Speed (cm/s)  cocaine status  recording\n",
              "14395 -57.945512 -60.610124 -54.832686  ...      1.145819             pre          2\n",
              "14396 -57.283914 -61.857844 -53.046077  ...      0.167269             pre          2\n",
              "14397 -57.621165 -62.037227 -54.470172  ...      0.155295             pre          2\n",
              "14398 -59.532244 -61.890011 -54.634515  ...      0.004777             pre          2\n",
              "14399 -58.429392 -62.086589 -54.455730  ...      0.000000             pre          2\n",
              "\n",
              "[5 rows x 18 columns]"
            ]
          },
          "metadata": {
            "tags": []
          },
          "execution_count": 70
        }
      ]
    },
    {
      "cell_type": "code",
      "metadata": {
        "id": "TbjpGf-w31g2",
        "colab_type": "code",
        "colab": {}
      },
      "source": [
        "multisite_df.fillna(multisite_df.mean(), inplace=True)"
      ],
      "execution_count": 0,
      "outputs": []
    },
    {
      "cell_type": "code",
      "metadata": {
        "id": "8A5XKCLg02df",
        "colab_type": "code",
        "colab": {}
      },
      "source": [
        "scaler = MinMaxScaler()\n",
        "multisite_df[['PFC gamma', 'VTA gamma', 'BLA gamma', 'NAc gamma',\n",
        "       'PFC beta', 'VTA beta', 'BLA beta', 'NAc beta', 'PFC theta',\n",
        "       'VTA theta', 'BLA theta', 'NAc theta', 'reference wires']] = scaler.fit_transform(multisite_df[['PFC gamma', 'VTA gamma', 'BLA gamma', 'NAc gamma',\n",
        "                                                                                                       'PFC beta', 'VTA beta', 'BLA beta', 'NAc beta', 'PFC theta',\n",
        "                                                                                                       'VTA theta', 'BLA theta', 'NAc theta', 'reference wires']])"
      ],
      "execution_count": 0,
      "outputs": []
    },
    {
      "cell_type": "code",
      "metadata": {
        "id": "SwrgrEXK3qv9",
        "colab_type": "code",
        "colab": {
          "base_uri": "https://localhost:8080/",
          "height": 241
        },
        "outputId": "bc8b9536-cb13-4973-8089-3f03db9fb0a2"
      },
      "source": [
        "multisite_df.tail()"
      ],
      "execution_count": 77,
      "outputs": [
        {
          "output_type": "execute_result",
          "data": {
            "text/html": [
              "<div>\n",
              "<style scoped>\n",
              "    .dataframe tbody tr th:only-of-type {\n",
              "        vertical-align: middle;\n",
              "    }\n",
              "\n",
              "    .dataframe tbody tr th {\n",
              "        vertical-align: top;\n",
              "    }\n",
              "\n",
              "    .dataframe thead th {\n",
              "        text-align: right;\n",
              "    }\n",
              "</style>\n",
              "<table border=\"1\" class=\"dataframe\">\n",
              "  <thead>\n",
              "    <tr style=\"text-align: right;\">\n",
              "      <th></th>\n",
              "      <th>PFC gamma</th>\n",
              "      <th>VTA gamma</th>\n",
              "      <th>BLA gamma</th>\n",
              "      <th>NAc gamma</th>\n",
              "      <th>PFC beta</th>\n",
              "      <th>VTA beta</th>\n",
              "      <th>BLA beta</th>\n",
              "      <th>NAc beta</th>\n",
              "      <th>PFC theta</th>\n",
              "      <th>VTA theta</th>\n",
              "      <th>BLA theta</th>\n",
              "      <th>NAc theta</th>\n",
              "      <th>reference wires</th>\n",
              "      <th>mouse id</th>\n",
              "      <th>Time (s)</th>\n",
              "      <th>Speed (cm/s)</th>\n",
              "      <th>cocaine status</th>\n",
              "      <th>recording</th>\n",
              "    </tr>\n",
              "  </thead>\n",
              "  <tbody>\n",
              "    <tr>\n",
              "      <th>14395</th>\n",
              "      <td>0.160803</td>\n",
              "      <td>0.098663</td>\n",
              "      <td>0.379112</td>\n",
              "      <td>0.435232</td>\n",
              "      <td>0.116256</td>\n",
              "      <td>0.096596</td>\n",
              "      <td>0.365786</td>\n",
              "      <td>0.217770</td>\n",
              "      <td>0.279710</td>\n",
              "      <td>0.291921</td>\n",
              "      <td>0.411115</td>\n",
              "      <td>0.285573</td>\n",
              "      <td>0.274108</td>\n",
              "      <td>1</td>\n",
              "      <td>1795</td>\n",
              "      <td>1.145819</td>\n",
              "      <td>pre</td>\n",
              "      <td>2</td>\n",
              "    </tr>\n",
              "    <tr>\n",
              "      <th>14396</th>\n",
              "      <td>0.181986</td>\n",
              "      <td>0.068729</td>\n",
              "      <td>0.430632</td>\n",
              "      <td>0.385932</td>\n",
              "      <td>0.114759</td>\n",
              "      <td>0.148119</td>\n",
              "      <td>0.458901</td>\n",
              "      <td>0.440185</td>\n",
              "      <td>0.478738</td>\n",
              "      <td>0.274591</td>\n",
              "      <td>0.601804</td>\n",
              "      <td>0.449501</td>\n",
              "      <td>0.274108</td>\n",
              "      <td>1</td>\n",
              "      <td>1796</td>\n",
              "      <td>0.167269</td>\n",
              "      <td>pre</td>\n",
              "      <td>2</td>\n",
              "    </tr>\n",
              "    <tr>\n",
              "      <th>14397</th>\n",
              "      <td>0.171188</td>\n",
              "      <td>0.064426</td>\n",
              "      <td>0.389566</td>\n",
              "      <td>0.388793</td>\n",
              "      <td>0.195808</td>\n",
              "      <td>0.278560</td>\n",
              "      <td>0.400931</td>\n",
              "      <td>0.444070</td>\n",
              "      <td>0.258068</td>\n",
              "      <td>0.343653</td>\n",
              "      <td>0.522407</td>\n",
              "      <td>0.474261</td>\n",
              "      <td>0.274108</td>\n",
              "      <td>1</td>\n",
              "      <td>1797</td>\n",
              "      <td>0.155295</td>\n",
              "      <td>pre</td>\n",
              "      <td>2</td>\n",
              "    </tr>\n",
              "    <tr>\n",
              "      <th>14398</th>\n",
              "      <td>0.109998</td>\n",
              "      <td>0.067958</td>\n",
              "      <td>0.384827</td>\n",
              "      <td>0.439544</td>\n",
              "      <td>0.163242</td>\n",
              "      <td>0.115785</td>\n",
              "      <td>0.386317</td>\n",
              "      <td>0.308095</td>\n",
              "      <td>0.219913</td>\n",
              "      <td>0.322715</td>\n",
              "      <td>0.548989</td>\n",
              "      <td>0.413663</td>\n",
              "      <td>0.274108</td>\n",
              "      <td>1</td>\n",
              "      <td>1798</td>\n",
              "      <td>0.004777</td>\n",
              "      <td>pre</td>\n",
              "      <td>2</td>\n",
              "    </tr>\n",
              "    <tr>\n",
              "      <th>14399</th>\n",
              "      <td>0.145310</td>\n",
              "      <td>0.063242</td>\n",
              "      <td>0.389982</td>\n",
              "      <td>0.394398</td>\n",
              "      <td>0.283002</td>\n",
              "      <td>0.255716</td>\n",
              "      <td>0.418233</td>\n",
              "      <td>0.281581</td>\n",
              "      <td>0.363707</td>\n",
              "      <td>0.308772</td>\n",
              "      <td>0.608321</td>\n",
              "      <td>0.416504</td>\n",
              "      <td>0.274108</td>\n",
              "      <td>1</td>\n",
              "      <td>1799</td>\n",
              "      <td>0.000000</td>\n",
              "      <td>pre</td>\n",
              "      <td>2</td>\n",
              "    </tr>\n",
              "  </tbody>\n",
              "</table>\n",
              "</div>"
            ],
            "text/plain": [
              "       PFC gamma  VTA gamma  BLA gamma  ...  Speed (cm/s)  cocaine status  recording\n",
              "14395   0.160803   0.098663   0.379112  ...      1.145819             pre          2\n",
              "14396   0.181986   0.068729   0.430632  ...      0.167269             pre          2\n",
              "14397   0.171188   0.064426   0.389566  ...      0.155295             pre          2\n",
              "14398   0.109998   0.067958   0.384827  ...      0.004777             pre          2\n",
              "14399   0.145310   0.063242   0.389982  ...      0.000000             pre          2\n",
              "\n",
              "[5 rows x 18 columns]"
            ]
          },
          "metadata": {
            "tags": []
          },
          "execution_count": 77
        }
      ]
    },
    {
      "cell_type": "code",
      "metadata": {
        "id": "Jam7h3s55c2V",
        "colab_type": "code",
        "colab": {
          "base_uri": "https://localhost:8080/",
          "height": 102
        },
        "outputId": "9b4af875-3066-4172-c80e-8804eacbbfbb"
      },
      "source": [
        "multisite_df.columns.values"
      ],
      "execution_count": 30,
      "outputs": [
        {
          "output_type": "execute_result",
          "data": {
            "text/plain": [
              "array(['PFC gamma', 'VTA gamma', 'BLA gamma', 'NAc gamma', 'PFC beta',\n",
              "       'VTA beta', 'BLA beta', 'NAc beta', 'PFC theta', 'VTA theta',\n",
              "       'BLA theta', 'NAc theta', 'reference wires', 'mouse id',\n",
              "       'Time (s)', 'Speed (cm/s)', 'cocaine status', 'recording'],\n",
              "      dtype=object)"
            ]
          },
          "metadata": {
            "tags": []
          },
          "execution_count": 30
        }
      ]
    },
    {
      "cell_type": "code",
      "metadata": {
        "id": "N4s7Cm-s3s1f",
        "colab_type": "code",
        "colab": {}
      },
      "source": [
        "x = multisite_df.loc[:, ['PFC gamma', 'VTA gamma', 'BLA gamma', 'NAc gamma', 'PFC beta',\n",
        "       'VTA beta', 'BLA beta', 'NAc beta', 'PFC theta', 'VTA theta',\n",
        "       'BLA theta', 'NAc theta']]"
      ],
      "execution_count": 0,
      "outputs": []
    },
    {
      "cell_type": "code",
      "metadata": {
        "id": "MJl4Cgu75i_9",
        "colab_type": "code",
        "colab": {}
      },
      "source": [
        "from sklearn.decomposition import PCA\n",
        "pca = PCA(n_components=2)\n",
        "principalComponents = pca.fit_transform(x)\n"
      ],
      "execution_count": 0,
      "outputs": []
    },
    {
      "cell_type": "code",
      "metadata": {
        "id": "TXFXBxSV5xK2",
        "colab_type": "code",
        "colab": {}
      },
      "source": [
        "principal_df = pd.DataFrame(data = principalComponents\n",
        "             , columns = ['principal component 1', 'principal component 2'])"
      ],
      "execution_count": 0,
      "outputs": []
    },
    {
      "cell_type": "code",
      "metadata": {
        "id": "YLhFpzB55_ow",
        "colab_type": "code",
        "colab": {
          "base_uri": "https://localhost:8080/",
          "height": 419
        },
        "outputId": "e07d35ca-f994-47de-a7d1-3ae780125832"
      },
      "source": [
        "principal_df"
      ],
      "execution_count": 56,
      "outputs": [
        {
          "output_type": "execute_result",
          "data": {
            "text/html": [
              "<div>\n",
              "<style scoped>\n",
              "    .dataframe tbody tr th:only-of-type {\n",
              "        vertical-align: middle;\n",
              "    }\n",
              "\n",
              "    .dataframe tbody tr th {\n",
              "        vertical-align: top;\n",
              "    }\n",
              "\n",
              "    .dataframe thead th {\n",
              "        text-align: right;\n",
              "    }\n",
              "</style>\n",
              "<table border=\"1\" class=\"dataframe\">\n",
              "  <thead>\n",
              "    <tr style=\"text-align: right;\">\n",
              "      <th></th>\n",
              "      <th>principal component 1</th>\n",
              "      <th>principal component 2</th>\n",
              "    </tr>\n",
              "  </thead>\n",
              "  <tbody>\n",
              "    <tr>\n",
              "      <th>0</th>\n",
              "      <td>0.110392</td>\n",
              "      <td>-0.059063</td>\n",
              "    </tr>\n",
              "    <tr>\n",
              "      <th>1</th>\n",
              "      <td>0.127196</td>\n",
              "      <td>-0.064316</td>\n",
              "    </tr>\n",
              "    <tr>\n",
              "      <th>2</th>\n",
              "      <td>0.149845</td>\n",
              "      <td>-0.045504</td>\n",
              "    </tr>\n",
              "    <tr>\n",
              "      <th>3</th>\n",
              "      <td>0.075825</td>\n",
              "      <td>-0.010678</td>\n",
              "    </tr>\n",
              "    <tr>\n",
              "      <th>4</th>\n",
              "      <td>0.089351</td>\n",
              "      <td>-0.093855</td>\n",
              "    </tr>\n",
              "    <tr>\n",
              "      <th>...</th>\n",
              "      <td>...</td>\n",
              "      <td>...</td>\n",
              "    </tr>\n",
              "    <tr>\n",
              "      <th>14395</th>\n",
              "      <td>-0.005315</td>\n",
              "      <td>0.034182</td>\n",
              "    </tr>\n",
              "    <tr>\n",
              "      <th>14396</th>\n",
              "      <td>0.200171</td>\n",
              "      <td>-0.028916</td>\n",
              "    </tr>\n",
              "    <tr>\n",
              "      <th>14397</th>\n",
              "      <td>0.111114</td>\n",
              "      <td>-0.066608</td>\n",
              "    </tr>\n",
              "    <tr>\n",
              "      <th>14398</th>\n",
              "      <td>0.120387</td>\n",
              "      <td>-0.036859</td>\n",
              "    </tr>\n",
              "    <tr>\n",
              "      <th>14399</th>\n",
              "      <td>0.123807</td>\n",
              "      <td>0.075622</td>\n",
              "    </tr>\n",
              "  </tbody>\n",
              "</table>\n",
              "<p>14400 rows × 2 columns</p>\n",
              "</div>"
            ],
            "text/plain": [
              "       principal component 1  principal component 2\n",
              "0                   0.110392              -0.059063\n",
              "1                   0.127196              -0.064316\n",
              "2                   0.149845              -0.045504\n",
              "3                   0.075825              -0.010678\n",
              "4                   0.089351              -0.093855\n",
              "...                      ...                    ...\n",
              "14395              -0.005315               0.034182\n",
              "14396               0.200171              -0.028916\n",
              "14397               0.111114              -0.066608\n",
              "14398               0.120387              -0.036859\n",
              "14399               0.123807               0.075622\n",
              "\n",
              "[14400 rows x 2 columns]"
            ]
          },
          "metadata": {
            "tags": []
          },
          "execution_count": 56
        }
      ]
    },
    {
      "cell_type": "code",
      "metadata": {
        "id": "ffasfVpP6A6E",
        "colab_type": "code",
        "colab": {}
      },
      "source": [
        "final_df = pd.concat([principal_df, multisite_df[['cocaine status']]], axis = 1)\n"
      ],
      "execution_count": 0,
      "outputs": []
    },
    {
      "cell_type": "code",
      "metadata": {
        "id": "pAvq_flq6VIE",
        "colab_type": "code",
        "colab": {
          "base_uri": "https://localhost:8080/",
          "height": 204
        },
        "outputId": "0093ba55-d3cd-42eb-fa4e-0c0b4682c442"
      },
      "source": [
        "final_df.head()"
      ],
      "execution_count": 58,
      "outputs": [
        {
          "output_type": "execute_result",
          "data": {
            "text/html": [
              "<div>\n",
              "<style scoped>\n",
              "    .dataframe tbody tr th:only-of-type {\n",
              "        vertical-align: middle;\n",
              "    }\n",
              "\n",
              "    .dataframe tbody tr th {\n",
              "        vertical-align: top;\n",
              "    }\n",
              "\n",
              "    .dataframe thead th {\n",
              "        text-align: right;\n",
              "    }\n",
              "</style>\n",
              "<table border=\"1\" class=\"dataframe\">\n",
              "  <thead>\n",
              "    <tr style=\"text-align: right;\">\n",
              "      <th></th>\n",
              "      <th>principal component 1</th>\n",
              "      <th>principal component 2</th>\n",
              "      <th>cocaine status</th>\n",
              "    </tr>\n",
              "  </thead>\n",
              "  <tbody>\n",
              "    <tr>\n",
              "      <th>0</th>\n",
              "      <td>0.110392</td>\n",
              "      <td>-0.059063</td>\n",
              "      <td>post</td>\n",
              "    </tr>\n",
              "    <tr>\n",
              "      <th>1</th>\n",
              "      <td>0.127196</td>\n",
              "      <td>-0.064316</td>\n",
              "      <td>post</td>\n",
              "    </tr>\n",
              "    <tr>\n",
              "      <th>2</th>\n",
              "      <td>0.149845</td>\n",
              "      <td>-0.045504</td>\n",
              "      <td>post</td>\n",
              "    </tr>\n",
              "    <tr>\n",
              "      <th>3</th>\n",
              "      <td>0.075825</td>\n",
              "      <td>-0.010678</td>\n",
              "      <td>post</td>\n",
              "    </tr>\n",
              "    <tr>\n",
              "      <th>4</th>\n",
              "      <td>0.089351</td>\n",
              "      <td>-0.093855</td>\n",
              "      <td>post</td>\n",
              "    </tr>\n",
              "  </tbody>\n",
              "</table>\n",
              "</div>"
            ],
            "text/plain": [
              "   principal component 1  principal component 2 cocaine status\n",
              "0               0.110392              -0.059063           post\n",
              "1               0.127196              -0.064316           post\n",
              "2               0.149845              -0.045504           post\n",
              "3               0.075825              -0.010678           post\n",
              "4               0.089351              -0.093855           post"
            ]
          },
          "metadata": {
            "tags": []
          },
          "execution_count": 58
        }
      ]
    },
    {
      "cell_type": "code",
      "metadata": {
        "id": "XURp4bk96W71",
        "colab_type": "code",
        "colab": {
          "base_uri": "https://localhost:8080/",
          "height": 523
        },
        "outputId": "1337e678-c3cb-4164-d5ba-5801e9b322cc"
      },
      "source": [
        "fig = plt.figure(figsize = (8,8))\n",
        "ax = fig.add_subplot(1,1,1) \n",
        "ax.set_xlabel('Principal Component 1', fontsize = 15)\n",
        "ax.set_ylabel('Principal Component 2', fontsize = 15)\n",
        "ax.set_title('Principal Component Analysis', fontsize = 20)\n",
        "targets = ['post', 'pre']\n",
        "colors = ['mediumorchid', 'deeppink']\n",
        "for target, color in zip(targets,colors):\n",
        "    indicesToKeep = final_df['cocaine status'] == target\n",
        "    ax.scatter(final_df.loc[indicesToKeep, 'principal component 1']\n",
        "               , final_df.loc[indicesToKeep, 'principal component 2']\n",
        "               , c = color\n",
        "               , s = 50)\n",
        "ax.legend(targets)\n",
        "ax.grid()"
      ],
      "execution_count": 63,
      "outputs": [
        {
          "output_type": "display_data",
          "data": {
            "image/png": "[encoded data removed]",
            "text/plain": [
              "<Figure size 576x576 with 1 Axes>"
            ]
          },
          "metadata": {
            "tags": [],
            "needs_background": "light"
          }
        }
      ]
    },
    {
      "cell_type": "code",
      "metadata": {
        "id": "v6nxwcTk6l5J",
        "colab_type": "code",
        "colab": {
          "base_uri": "https://localhost:8080/",
          "height": 34
        },
        "outputId": "451d423a-8866-4fd8-80e2-365fd98b01bb"
      },
      "source": [
        "pca.explained_variance_ratio_\n"
      ],
      "execution_count": 61,
      "outputs": [
        {
          "output_type": "execute_result",
          "data": {
            "text/plain": [
              "array([0.41514774, 0.23475438])"
            ]
          },
          "metadata": {
            "tags": []
          },
          "execution_count": 61
        }
      ]
    },
    {
      "cell_type": "code",
      "metadata": {
        "id": "YmeDrFpb7Iqy",
        "colab_type": "code",
        "colab": {}
      },
      "source": [
        "multisite_df = pd.read_csv('drive/My Drive/Projects/pilot_mouse_connectivity/cocaine_two_mice/Spectrogram_data/updated_data/multisite_averaged_data.csv')"
      ],
      "execution_count": 0,
      "outputs": []
    },
    {
      "cell_type": "code",
      "metadata": {
        "id": "4kqmj6Hw9_5O",
        "colab_type": "code",
        "colab": {}
      },
      "source": [
        "multisite_df.drop(\"Unnamed: 0\", axis=1,inplace=True)\n"
      ],
      "execution_count": 0,
      "outputs": []
    },
    {
      "cell_type": "code",
      "metadata": {
        "id": "L5aglZBLC_-S",
        "colab_type": "code",
        "colab": {}
      },
      "source": [
        "multisite_df.fillna(multisite_df.mean(), inplace=True)"
      ],
      "execution_count": 0,
      "outputs": []
    },
    {
      "cell_type": "code",
      "metadata": {
        "id": "nu08Z10JFblD",
        "colab_type": "code",
        "colab": {}
      },
      "source": [
        "sub1_df=multisite_df.loc[0:1799, ]"
      ],
      "execution_count": 0,
      "outputs": []
    },
    {
      "cell_type": "code",
      "metadata": {
        "id": "nW4ChQBGF-41",
        "colab_type": "code",
        "colab": {
          "base_uri": "https://localhost:8080/",
          "height": 241
        },
        "outputId": "85126aa1-9882-4543-88f1-e6708f629a17"
      },
      "source": [
        "sub1_df.tail()"
      ],
      "execution_count": 101,
      "outputs": [
        {
          "output_type": "execute_result",
          "data": {
            "text/html": [
              "<div>\n",
              "<style scoped>\n",
              "    .dataframe tbody tr th:only-of-type {\n",
              "        vertical-align: middle;\n",
              "    }\n",
              "\n",
              "    .dataframe tbody tr th {\n",
              "        vertical-align: top;\n",
              "    }\n",
              "\n",
              "    .dataframe thead th {\n",
              "        text-align: right;\n",
              "    }\n",
              "</style>\n",
              "<table border=\"1\" class=\"dataframe\">\n",
              "  <thead>\n",
              "    <tr style=\"text-align: right;\">\n",
              "      <th></th>\n",
              "      <th>PFC gamma</th>\n",
              "      <th>VTA gamma</th>\n",
              "      <th>BLA gamma</th>\n",
              "      <th>NAc gamma</th>\n",
              "      <th>PFC beta</th>\n",
              "      <th>VTA beta</th>\n",
              "      <th>BLA beta</th>\n",
              "      <th>NAc beta</th>\n",
              "      <th>PFC theta</th>\n",
              "      <th>VTA theta</th>\n",
              "      <th>BLA theta</th>\n",
              "      <th>NAc theta</th>\n",
              "      <th>reference wires</th>\n",
              "      <th>mouse id</th>\n",
              "      <th>Time (s)</th>\n",
              "      <th>Speed (cm/s)</th>\n",
              "      <th>cocaine status</th>\n",
              "      <th>recording</th>\n",
              "    </tr>\n",
              "  </thead>\n",
              "  <tbody>\n",
              "    <tr>\n",
              "      <th>1795</th>\n",
              "      <td>-56.865715</td>\n",
              "      <td>-57.942726</td>\n",
              "      <td>-52.129210</td>\n",
              "      <td>-53.307285</td>\n",
              "      <td>-49.976629</td>\n",
              "      <td>-50.508154</td>\n",
              "      <td>-44.014494</td>\n",
              "      <td>-46.660643</td>\n",
              "      <td>-38.009357</td>\n",
              "      <td>-40.977594</td>\n",
              "      <td>-35.588515</td>\n",
              "      <td>-36.545130</td>\n",
              "      <td>-45.135876</td>\n",
              "      <td>1</td>\n",
              "      <td>1795</td>\n",
              "      <td>4.658641</td>\n",
              "      <td>post</td>\n",
              "      <td>1</td>\n",
              "    </tr>\n",
              "    <tr>\n",
              "      <th>1796</th>\n",
              "      <td>-56.473973</td>\n",
              "      <td>-58.849609</td>\n",
              "      <td>-52.928476</td>\n",
              "      <td>-52.319462</td>\n",
              "      <td>-49.798711</td>\n",
              "      <td>-51.120191</td>\n",
              "      <td>-43.926163</td>\n",
              "      <td>-48.284506</td>\n",
              "      <td>-37.293854</td>\n",
              "      <td>-42.177768</td>\n",
              "      <td>-33.858847</td>\n",
              "      <td>-37.812734</td>\n",
              "      <td>-45.216104</td>\n",
              "      <td>1</td>\n",
              "      <td>1796</td>\n",
              "      <td>5.963985</td>\n",
              "      <td>post</td>\n",
              "      <td>1</td>\n",
              "    </tr>\n",
              "    <tr>\n",
              "      <th>1797</th>\n",
              "      <td>-56.605047</td>\n",
              "      <td>-57.997710</td>\n",
              "      <td>-54.303418</td>\n",
              "      <td>-53.893559</td>\n",
              "      <td>-48.505382</td>\n",
              "      <td>-51.477111</td>\n",
              "      <td>-46.106859</td>\n",
              "      <td>-47.793434</td>\n",
              "      <td>-40.364863</td>\n",
              "      <td>-36.448517</td>\n",
              "      <td>-34.211939</td>\n",
              "      <td>-40.414986</td>\n",
              "      <td>-48.380461</td>\n",
              "      <td>1</td>\n",
              "      <td>1797</td>\n",
              "      <td>7.986120</td>\n",
              "      <td>post</td>\n",
              "      <td>1</td>\n",
              "    </tr>\n",
              "    <tr>\n",
              "      <th>1798</th>\n",
              "      <td>-56.040445</td>\n",
              "      <td>-58.415036</td>\n",
              "      <td>-53.152960</td>\n",
              "      <td>-53.526476</td>\n",
              "      <td>-51.928621</td>\n",
              "      <td>-50.732911</td>\n",
              "      <td>-44.187890</td>\n",
              "      <td>-46.059507</td>\n",
              "      <td>-40.522954</td>\n",
              "      <td>-38.516281</td>\n",
              "      <td>-35.948192</td>\n",
              "      <td>-38.818920</td>\n",
              "      <td>-46.030858</td>\n",
              "      <td>1</td>\n",
              "      <td>1798</td>\n",
              "      <td>9.202635</td>\n",
              "      <td>post</td>\n",
              "      <td>1</td>\n",
              "    </tr>\n",
              "    <tr>\n",
              "      <th>1799</th>\n",
              "      <td>-56.522924</td>\n",
              "      <td>-59.501544</td>\n",
              "      <td>-53.045512</td>\n",
              "      <td>-53.967195</td>\n",
              "      <td>-50.221742</td>\n",
              "      <td>-51.942138</td>\n",
              "      <td>-45.947853</td>\n",
              "      <td>-44.495006</td>\n",
              "      <td>-40.765705</td>\n",
              "      <td>-40.219637</td>\n",
              "      <td>-36.467200</td>\n",
              "      <td>-38.934519</td>\n",
              "      <td>-45.924036</td>\n",
              "      <td>1</td>\n",
              "      <td>1799</td>\n",
              "      <td>9.357146</td>\n",
              "      <td>post</td>\n",
              "      <td>1</td>\n",
              "    </tr>\n",
              "  </tbody>\n",
              "</table>\n",
              "</div>"
            ],
            "text/plain": [
              "      PFC gamma  VTA gamma  BLA gamma  ...  Speed (cm/s)  cocaine status  recording\n",
              "1795 -56.865715 -57.942726 -52.129210  ...      4.658641            post          1\n",
              "1796 -56.473973 -58.849609 -52.928476  ...      5.963985            post          1\n",
              "1797 -56.605047 -57.997710 -54.303418  ...      7.986120            post          1\n",
              "1798 -56.040445 -58.415036 -53.152960  ...      9.202635            post          1\n",
              "1799 -56.522924 -59.501544 -53.045512  ...      9.357146            post          1\n",
              "\n",
              "[5 rows x 18 columns]"
            ]
          },
          "metadata": {
            "tags": []
          },
          "execution_count": 101
        }
      ]
    },
    {
      "cell_type": "code",
      "metadata": {
        "id": "h133Nm8rDha-",
        "colab_type": "code",
        "colab": {
          "base_uri": "https://localhost:8080/",
          "height": 282
        },
        "outputId": "918f4d0d-906e-4b4e-df63-e9037d109b75"
      },
      "source": [
        "fig, ax = plt.subplots()\n",
        "ax.plot(sub1_df['Time (s)'], sub1_df['PFC gamma'])\n"
      ],
      "execution_count": 102,
      "outputs": [
        {
          "output_type": "execute_result",
          "data": {
            "text/plain": [
              "[<matplotlib.lines.Line2D at 0x7f32504bab38>]"
            ]
          },
          "metadata": {
            "tags": []
          },
          "execution_count": 102
        },
        {
          "output_type": "display_data",
          "data": {
            "image/png": "[encoded data removed]",
            "text/plain": [
              "<Figure size 432x288 with 1 Axes>"
            ]
          },
          "metadata": {
            "tags": [],
            "needs_background": "light"
          }
        }
      ]
    },
    {
      "cell_type": "code",
      "metadata": {
        "id": "yNorabWBEBKv",
        "colab_type": "code",
        "colab": {}
      },
      "source": [
        "for name, group in groups:\n",
        "\tyears[name.year] = group.values\n",
        "years.plot(subplots=True, legend=False)\n",
        "pyplot.show()"
      ],
      "execution_count": 0,
      "outputs": []
    }
  ]
}