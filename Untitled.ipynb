{
 "cells": [
  {
   "cell_type": "markdown",
   "metadata": {},
   "source": [
    "## Analysis part2"
   ]
  },
  {
   "cell_type": "code",
   "execution_count": 1,
   "metadata": {},
   "outputs": [],
   "source": [
    "from IPython.core import display as ICD\n",
    "import pandas as pd\n",
    "import glob, os"
   ]
  },
  {
   "cell_type": "code",
   "execution_count": 2,
   "metadata": {},
   "outputs": [],
   "source": [
    "data_file = \"gamma_twomice_speed_cats.xlsx\""
   ]
  },
  {
   "cell_type": "code",
   "execution_count": 3,
   "metadata": {},
   "outputs": [],
   "source": [
    "df = pd.read_excel(data_file)"
   ]
  },
  {
   "cell_type": "code",
   "execution_count": 4,
   "metadata": {},
   "outputs": [
    {
     "data": {
      "text/html": [
       "<div>\n",
       "<style scoped>\n",
       "    .dataframe tbody tr th:only-of-type {\n",
       "        vertical-align: middle;\n",
       "    }\n",
       "\n",
       "    .dataframe tbody tr th {\n",
       "        vertical-align: top;\n",
       "    }\n",
       "\n",
       "    .dataframe thead th {\n",
       "        text-align: right;\n",
       "    }\n",
       "</style>\n",
       "<table border=\"1\" class=\"dataframe\">\n",
       "  <thead>\n",
       "    <tr style=\"text-align: right;\">\n",
       "      <th></th>\n",
       "      <th>Time</th>\n",
       "      <th>id</th>\n",
       "      <th>VTA01_Gamma (35-80)</th>\n",
       "      <th>VTA02_Gamma (35-80)</th>\n",
       "      <th>VTA03_Gamma (35-80)</th>\n",
       "      <th>VTA04_Gamma (35-80)</th>\n",
       "      <th>BLA01_Gamma (35-80)</th>\n",
       "      <th>BLA02_Gamma (35-80)</th>\n",
       "      <th>BLA03_Gamma (35-80)</th>\n",
       "      <th>BLA04_Gamma (35-80)</th>\n",
       "      <th>NAc01_Gamma (35-80)</th>\n",
       "      <th>NAc02_Gamma (35-80)</th>\n",
       "      <th>NAc03_Gamma (35-80)</th>\n",
       "      <th>NAc04_Gamma (35-80)</th>\n",
       "      <th>PFC01_Gamma (35-80)</th>\n",
       "      <th>PFC02_Gamma (35-80)</th>\n",
       "      <th>PFC03_Gamma (35-80)</th>\n",
       "      <th>PFC04_Gamma (35-80)</th>\n",
       "      <th>Speed(cm/s)</th>\n",
       "      <th>move</th>\n",
       "    </tr>\n",
       "  </thead>\n",
       "  <tbody>\n",
       "    <tr>\n",
       "      <th>0</th>\n",
       "      <td>0</td>\n",
       "      <td>1</td>\n",
       "      <td>-55.455906</td>\n",
       "      <td>-56.544137</td>\n",
       "      <td>-55.854948</td>\n",
       "      <td>-54.553870</td>\n",
       "      <td>-52.680928</td>\n",
       "      <td>-52.848247</td>\n",
       "      <td>-52.708793</td>\n",
       "      <td>-52.745989</td>\n",
       "      <td>-54.758013</td>\n",
       "      <td>-54.731863</td>\n",
       "      <td>-54.738937</td>\n",
       "      <td>-54.635744</td>\n",
       "      <td>-52.150338</td>\n",
       "      <td>-52.258260</td>\n",
       "      <td>-52.303187</td>\n",
       "      <td>-52.253507</td>\n",
       "      <td>1.111157</td>\n",
       "      <td>1</td>\n",
       "    </tr>\n",
       "    <tr>\n",
       "      <th>1</th>\n",
       "      <td>1</td>\n",
       "      <td>1</td>\n",
       "      <td>-55.745437</td>\n",
       "      <td>-54.423164</td>\n",
       "      <td>-55.350601</td>\n",
       "      <td>-56.033353</td>\n",
       "      <td>-52.801738</td>\n",
       "      <td>-52.474410</td>\n",
       "      <td>-52.789465</td>\n",
       "      <td>-52.688538</td>\n",
       "      <td>-54.077320</td>\n",
       "      <td>-54.021614</td>\n",
       "      <td>-54.045362</td>\n",
       "      <td>-54.232185</td>\n",
       "      <td>-49.507135</td>\n",
       "      <td>-49.548199</td>\n",
       "      <td>-49.504652</td>\n",
       "      <td>-49.541088</td>\n",
       "      <td>1.076394</td>\n",
       "      <td>1</td>\n",
       "    </tr>\n",
       "    <tr>\n",
       "      <th>2</th>\n",
       "      <td>2</td>\n",
       "      <td>1</td>\n",
       "      <td>-53.511543</td>\n",
       "      <td>-53.417340</td>\n",
       "      <td>-53.989995</td>\n",
       "      <td>-54.550385</td>\n",
       "      <td>-53.745198</td>\n",
       "      <td>-53.620413</td>\n",
       "      <td>-53.918141</td>\n",
       "      <td>-53.761251</td>\n",
       "      <td>-53.296488</td>\n",
       "      <td>-53.375627</td>\n",
       "      <td>-53.264524</td>\n",
       "      <td>-53.309571</td>\n",
       "      <td>-51.673439</td>\n",
       "      <td>-51.649943</td>\n",
       "      <td>-51.636795</td>\n",
       "      <td>-51.668185</td>\n",
       "      <td>1.292817</td>\n",
       "      <td>1</td>\n",
       "    </tr>\n",
       "    <tr>\n",
       "      <th>3</th>\n",
       "      <td>3</td>\n",
       "      <td>1</td>\n",
       "      <td>-55.346259</td>\n",
       "      <td>-55.889945</td>\n",
       "      <td>-55.890227</td>\n",
       "      <td>-56.110035</td>\n",
       "      <td>-55.588631</td>\n",
       "      <td>-55.708550</td>\n",
       "      <td>-55.565186</td>\n",
       "      <td>-55.620789</td>\n",
       "      <td>-57.916630</td>\n",
       "      <td>-57.816757</td>\n",
       "      <td>-57.866756</td>\n",
       "      <td>-57.791698</td>\n",
       "      <td>-52.771802</td>\n",
       "      <td>-52.762355</td>\n",
       "      <td>-52.737476</td>\n",
       "      <td>-52.738999</td>\n",
       "      <td>1.760921</td>\n",
       "      <td>2</td>\n",
       "    </tr>\n",
       "    <tr>\n",
       "      <th>4</th>\n",
       "      <td>4</td>\n",
       "      <td>1</td>\n",
       "      <td>-55.547062</td>\n",
       "      <td>-53.365827</td>\n",
       "      <td>-55.138734</td>\n",
       "      <td>-55.942671</td>\n",
       "      <td>-52.426493</td>\n",
       "      <td>-52.630225</td>\n",
       "      <td>-52.541053</td>\n",
       "      <td>-52.532590</td>\n",
       "      <td>-55.066862</td>\n",
       "      <td>-55.041142</td>\n",
       "      <td>-54.987115</td>\n",
       "      <td>-54.986182</td>\n",
       "      <td>-53.060271</td>\n",
       "      <td>-52.773957</td>\n",
       "      <td>-52.810906</td>\n",
       "      <td>-52.836886</td>\n",
       "      <td>1.990886</td>\n",
       "      <td>2</td>\n",
       "    </tr>\n",
       "  </tbody>\n",
       "</table>\n",
       "</div>"
      ],
      "text/plain": [
       "   Time  id  VTA01_Gamma (35-80)  VTA02_Gamma (35-80)  VTA03_Gamma (35-80)  \\\n",
       "0     0   1           -55.455906           -56.544137           -55.854948   \n",
       "1     1   1           -55.745437           -54.423164           -55.350601   \n",
       "2     2   1           -53.511543           -53.417340           -53.989995   \n",
       "3     3   1           -55.346259           -55.889945           -55.890227   \n",
       "4     4   1           -55.547062           -53.365827           -55.138734   \n",
       "\n",
       "   VTA04_Gamma (35-80)  BLA01_Gamma (35-80)  BLA02_Gamma (35-80)  \\\n",
       "0           -54.553870           -52.680928           -52.848247   \n",
       "1           -56.033353           -52.801738           -52.474410   \n",
       "2           -54.550385           -53.745198           -53.620413   \n",
       "3           -56.110035           -55.588631           -55.708550   \n",
       "4           -55.942671           -52.426493           -52.630225   \n",
       "\n",
       "   BLA03_Gamma (35-80)  BLA04_Gamma (35-80)  NAc01_Gamma (35-80)  \\\n",
       "0           -52.708793           -52.745989           -54.758013   \n",
       "1           -52.789465           -52.688538           -54.077320   \n",
       "2           -53.918141           -53.761251           -53.296488   \n",
       "3           -55.565186           -55.620789           -57.916630   \n",
       "4           -52.541053           -52.532590           -55.066862   \n",
       "\n",
       "   NAc02_Gamma (35-80)  NAc03_Gamma (35-80)  NAc04_Gamma (35-80)  \\\n",
       "0           -54.731863           -54.738937           -54.635744   \n",
       "1           -54.021614           -54.045362           -54.232185   \n",
       "2           -53.375627           -53.264524           -53.309571   \n",
       "3           -57.816757           -57.866756           -57.791698   \n",
       "4           -55.041142           -54.987115           -54.986182   \n",
       "\n",
       "   PFC01_Gamma (35-80)  PFC02_Gamma (35-80)  PFC03_Gamma (35-80)  \\\n",
       "0           -52.150338           -52.258260           -52.303187   \n",
       "1           -49.507135           -49.548199           -49.504652   \n",
       "2           -51.673439           -51.649943           -51.636795   \n",
       "3           -52.771802           -52.762355           -52.737476   \n",
       "4           -53.060271           -52.773957           -52.810906   \n",
       "\n",
       "   PFC04_Gamma (35-80)  Speed(cm/s)  move  \n",
       "0           -52.253507     1.111157     1  \n",
       "1           -49.541088     1.076394     1  \n",
       "2           -51.668185     1.292817     1  \n",
       "3           -52.738999     1.760921     2  \n",
       "4           -52.836886     1.990886     2  "
      ]
     },
     "execution_count": 4,
     "metadata": {},
     "output_type": "execute_result"
    }
   ],
   "source": [
    "df.head()"
   ]
  },
  {
   "cell_type": "code",
   "execution_count": 5,
   "metadata": {},
   "outputs": [
    {
     "name": "stdout",
     "output_type": "stream",
     "text": [
      "Atlas ROIs are located in nifti image (4D) at: /Users/nikkibytes/nilearn_data/fsl/data/atlases/HarvardOxford/HarvardOxford-cort-maxprob-thr25-2mm.nii.gz\n",
      "\n",
      "Dataset created in /Users/nikkibytes/nilearn_data/development_fmri\n",
      "\n",
      "\n",
      "Dataset created in /Users/nikkibytes/nilearn_data/development_fmri/development_fmri\n",
      "\n",
      "Downloading data from https://osf.io/yr3av/download ...\n"
     ]
    },
    {
     "name": "stderr",
     "output_type": "stream",
     "text": [
      "Downloaded 16041 of 16041 bytes (100.0%,    0.0s remaining) ...done. (1 seconds, 0 min)\n"
     ]
    },
    {
     "name": "stdout",
     "output_type": "stream",
     "text": [
      "Downloading data from https://osf.io/download/5c8ff3df4712b400183b7092 ...\n"
     ]
    },
    {
     "name": "stderr",
     "output_type": "stream",
     "text": [
      "Downloaded 68285 of 68285 bytes (100.0%,    0.0s remaining) ...done. (1 seconds, 0 min)\n"
     ]
    },
    {
     "name": "stdout",
     "output_type": "stream",
     "text": [
      "Downloading data from https://osf.io/download/5c8ff3e04712b400193b5bdf ...\n"
     ]
    },
    {
     "name": "stderr",
     "output_type": "stream",
     "text": [
      "Downloaded 5642698 of 5642698 bytes (100.0%,    0.0s remaining) ...done. (1 seconds, 0 min)\n"
     ]
    }
   ],
   "source": [
    "from nilearn import datasets\n",
    "\n",
    "dataset = datasets.fetch_atlas_harvard_oxford('cort-maxprob-thr25-2mm')\n",
    "atlas_filename = dataset.maps\n",
    "labels = dataset.labels\n",
    "\n",
    "print('Atlas ROIs are located in nifti image (4D) at: %s' %\n",
    "      atlas_filename)  # 4D data\n",
    "\n",
    "# One subject of brain development fmri data\n",
    "data = datasets.fetch_development_fmri(n_subjects=1)\n",
    "fmri_filenames = data.func[0]"
   ]
  },
  {
   "cell_type": "code",
   "execution_count": 6,
   "metadata": {},
   "outputs": [
    {
     "name": "stdout",
     "output_type": "stream",
     "text": [
      "[NiftiLabelsMasker.fit_transform] loading data from /Users/nikkibytes/nilearn_data/fsl/data/atlases/HarvardOxford/HarvardOxford-cort-maxprob-thr25-2mm.nii.gz\n",
      "Resampling labels\n",
      "________________________________________________________________________________\n",
      "[Memory] Calling nilearn.input_data.base_masker.filter_and_extract...\n",
      "filter_and_extract('/Users/nikkibytes/nilearn_data/development_fmri/development_fmri/sub-pixar123_task-pixar_space-MNI152NLin2009cAsym_desc-preproc_bold.nii.gz', \n",
      "<nilearn.input_data.nifti_labels_masker._ExtractionFunctor object at 0x1c210477b8>, \n",
      "{ 'background_label': 0,\n",
      "  'detrend': False,\n",
      "  'dtype': None,\n",
      "  'high_pass': None,\n",
      "  'labels_img': '/Users/nikkibytes/nilearn_data/fsl/data/atlases/HarvardOxford/HarvardOxford-cort-maxprob-thr25-2mm.nii.gz',\n",
      "  'low_pass': None,\n",
      "  'mask_img': None,\n",
      "  'smoothing_fwhm': None,\n",
      "  'standardize': True,\n",
      "  'strategy': 'mean',\n",
      "  't_r': None,\n",
      "  'target_affine': None,\n",
      "  'target_shape': None}, confounds=[ '/Users/nikkibytes/nilearn_data/development_fmri/development_fmri/sub-pixar123_task-pixar_desc-reducedConfounds_regressors.tsv'], dtype=None, memory=Memory(location=nilearn_cache/joblib), memory_level=1, verbose=5)\n",
      "[NiftiLabelsMasker.transform_single_imgs] Loading data from /Users/nikkibytes/nilearn_data/development_fmri/development_fmri/sub-pixar123_task-pixar_space-MNI152NLin2009cAsym_desc-preproc_bold.nii.gz\n",
      "[NiftiLabelsMasker.transform_single_imgs] Extracting region signals\n",
      "[NiftiLabelsMasker.transform_single_imgs] Cleaning extracted signals\n",
      "_______________________________________________filter_and_extract - 0.7s, 0.0min\n"
     ]
    }
   ],
   "source": [
    "from nilearn.input_data import NiftiLabelsMasker\n",
    "masker = NiftiLabelsMasker(labels_img=atlas_filename, standardize=True,\n",
    "                           memory='nilearn_cache', verbose=5)\n",
    "\n",
    "# Here we go from nifti files to the signal time series in a numpy\n",
    "# array. Note how we give confounds to be regressed out during signal\n",
    "# extraction\n",
    "time_series = masker.fit_transform(fmri_filenames, confounds=data.confounds)"
   ]
  },
  {
   "cell_type": "code",
   "execution_count": 9,
   "metadata": {},
   "outputs": [
    {
     "data": {
      "text/plain": [
       "array([[ 1.75012633e+00,  1.30194325e-01,  1.44863357e+00, ...,\n",
       "        -1.62235977e+00, -2.96943314e+00, -3.48192217e-01],\n",
       "       [ 1.16876412e+00, -2.42748037e-01,  1.06252259e+00, ...,\n",
       "        -1.46706283e+00, -5.03220005e-01, -4.48284989e-01],\n",
       "       [-2.80299579e-03, -1.30247450e+00,  5.61293651e-01, ...,\n",
       "        -1.19811500e+00,  4.15776129e-01, -2.98573256e-01],\n",
       "       ...,\n",
       "       [ 5.54901441e-01,  2.26854952e-01,  5.34985328e-01, ...,\n",
       "        -2.59779161e-01,  1.82636219e+00, -2.16022237e+00],\n",
       "       [ 5.46080114e-01, -1.06991807e+00,  2.24077159e-01, ...,\n",
       "        -6.99255483e-01,  2.27062003e+00, -1.34721042e+00],\n",
       "       [ 1.34501909e+00,  1.89411823e-01,  7.77552247e-01, ...,\n",
       "        -2.14489734e-02,  1.22599054e+00, -2.05496972e+00]])"
      ]
     },
     "execution_count": 9,
     "metadata": {},
     "output_type": "execute_result"
    }
   ],
   "source": [
    "time_series"
   ]
  },
  {
   "cell_type": "code",
   "execution_count": null,
   "metadata": {},
   "outputs": [],
   "source": []
  }
 ],
 "metadata": {
  "kernelspec": {
   "display_name": "Python 3",
   "language": "python",
   "name": "python3"
  },
  "language_info": {
   "codemirror_mode": {
    "name": "ipython",
    "version": 3
   },
   "file_extension": ".py",
   "mimetype": "text/x-python",
   "name": "python",
   "nbconvert_exporter": "python",
   "pygments_lexer": "ipython3",
   "version": "3.7.3"
  }
 },
 "nbformat": 4,
 "nbformat_minor": 4
}
