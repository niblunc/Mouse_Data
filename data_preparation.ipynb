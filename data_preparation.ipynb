{
  "nbformat": 4,
  "nbformat_minor": 0,
  "metadata": {
    "colab": {
      "name": "data_preparation.ipynb",
      "provenance": []
    },
    "kernelspec": {
      "name": "python3",
      "display_name": "Python 3"
    }
  },
  "cells": [
    {
      "cell_type": "code",
      "metadata": {
        "id": "KWBH5SbXcUSh",
        "colab_type": "code",
        "outputId": "c31b59bd-7f9c-4902-e581-84bd5123d437",
        "colab": {
          "base_uri": "https://localhost:8080/",
          "height": 122
        }
      },
      "source": [
        "from google.colab import drive\n",
        "drive.mount('/content/drive')"
      ],
      "execution_count": 0,
      "outputs": [
        {
          "output_type": "stream",
          "text": [
            "Go to this URL in a browser: https://accounts.google.com/o/oauth2/auth?client_id=947318989803-6bn6qk8qdgf4n4g3pfee6491hc0brc4i.apps.googleusercontent.com&redirect_uri=urn%3aietf%3awg%3aoauth%3a2.0%3aoob&response_type=code&scope=email%20https%3a%2f%2fwww.googleapis.com%2fauth%2fdocs.test%20https%3a%2f%2fwww.googleapis.com%2fauth%2fdrive%20https%3a%2f%2fwww.googleapis.com%2fauth%2fdrive.photos.readonly%20https%3a%2f%2fwww.googleapis.com%2fauth%2fpeopleapi.readonly\n",
            "\n",
            "Enter your authorization code:\n",
            "··········\n",
            "Mounted at /content/drive\n"
          ],
          "name": "stdout"
        }
      ]
    },
    {
      "cell_type": "code",
      "metadata": {
        "id": "ZO0kUxyiceKD",
        "colab_type": "code",
        "colab": {}
      },
      "source": [
        "from IPython.core import display as ICD\n",
        "import pandas as pd\n",
        "import glob, os\n",
        "import seaborn as sns\n"
      ],
      "execution_count": 0,
      "outputs": []
    },
    {
      "cell_type": "code",
      "metadata": {
        "id": "0Kmrkg25d3Og",
        "colab_type": "code",
        "colab": {}
      },
      "source": [
        "#!ls drive/My\\ Drive/Projects/pilot_mouse_connectivity/Cocaine_two_mice/Spectrogram_data"
      ],
      "execution_count": 0,
      "outputs": []
    },
    {
      "cell_type": "code",
      "metadata": {
        "id": "9PY7ZiD0cuxR",
        "colab_type": "code",
        "colab": {
          "base_uri": "https://localhost:8080/",
          "height": 34
        },
        "outputId": "e03dceef-35f0-463b-dda3-f7fb8b0c1ef7"
      },
      "source": [
        "print(\"[INFO] getting multisite csvs\")\n",
        "multisite_csvs=glob.glob(\"drive/My Drive/Projects/pilot_mouse_connectivity/Cocaine_two_mice/Spectrogram_data/multisite*.csv\")"
      ],
      "execution_count": 104,
      "outputs": [
        {
          "output_type": "stream",
          "text": [
            "[INFO] getting multisite csvs\n"
          ],
          "name": "stdout"
        }
      ]
    },
    {
      "cell_type": "code",
      "metadata": {
        "id": "JoO02PsxfKbA",
        "colab_type": "code",
        "outputId": "edb703b9-f083-4950-a7ad-c072430052cb",
        "colab": {
          "base_uri": "https://localhost:8080/",
          "height": 34
        }
      },
      "source": [
        "# GOAL: average gamma across columns for each of the 4 regions \n",
        "# Regions: PFC, NAc, BLA, VTA \n",
        "print(\"[INFO] loading csvs and averaging gamma columns\")\n",
        "df_list=[]\n",
        "for csv in multisite_csvs:\n",
        "  new_df=pd.DataFrame()\n",
        "  df = pd.read_csv(csv)\n",
        "  filename=csv.split(\"/\")[-1]\n",
        "  mouse_id = filename.split(\" \")[1].split('e')[1]\n",
        "  cocaine_status = filename.split(\" \")[4].split(\"-\")[0].split(\".\")[0]\n",
        "  recording = filename.split(\" \")[3].strip(\")\")\n",
        "  #print(mouse_id,cocaine_status, recording)# filename)\n",
        "  \n",
        "  new_df['PFC gamma'] =  df.filter(regex=(\"PFC*\")).filter(regex=(\"gamma\")).mean(axis=1)\n",
        "  new_df['VTA gamma'] =  df.filter(regex=(\"VTA*\")).filter(regex=(\"gamma\")).mean(axis=1)\n",
        "  new_df['BLA gamma'] =  df.filter(regex=(\"BLA*\")).filter(regex=(\"gamma\")).mean(axis=1)\n",
        "  new_df['NAc gamma'] =  df.filter(regex=(\"NAc*\")).filter(regex=(\"gamma\")).mean(axis=1)\n",
        "  new_df['mouse id'] = mouse_id\n",
        "  new_df['cocaine status'] = cocaine_status\n",
        "  new_df['recording'] = recording\n",
        "\n",
        "  df_list.append(new_df)\n",
        "  #ICD.display(new_df.head())"
      ],
      "execution_count": 105,
      "outputs": [
        {
          "output_type": "stream",
          "text": [
            "[INFO] loading csvs and averaging gamma columns\n"
          ],
          "name": "stdout"
        }
      ]
    },
    {
      "cell_type": "code",
      "metadata": {
        "id": "6p-_QJGNgXq_",
        "colab_type": "code",
        "colab": {
          "base_uri": "https://localhost:8080/",
          "height": 34
        },
        "outputId": "144cd884-1883-4e18-b959-57845b89790e"
      },
      "source": [
        "print(\"[INFO] concatinating dataframes\")\n",
        "final_df=pd.concat(df_list)"
      ],
      "execution_count": 106,
      "outputs": [
        {
          "output_type": "stream",
          "text": [
            "[INFO] concatinating dataframes\n"
          ],
          "name": "stdout"
        }
      ]
    },
    {
      "cell_type": "code",
      "metadata": {
        "id": "b9RXRDkh6Zah",
        "colab_type": "code",
        "colab": {
          "base_uri": "https://localhost:8080/",
          "height": 221
        },
        "outputId": "993f4889-18e3-461b-b193-2821dfe35dbe"
      },
      "source": [
        "print(\"[INFO] view new dataframe\")\n",
        "final_df.head()"
      ],
      "execution_count": 107,
      "outputs": [
        {
          "output_type": "stream",
          "text": [
            "[INFO] view new dataframe\n"
          ],
          "name": "stdout"
        },
        {
          "output_type": "execute_result",
          "data": {
            "text/html": [
              "<div>\n",
              "<style scoped>\n",
              "    .dataframe tbody tr th:only-of-type {\n",
              "        vertical-align: middle;\n",
              "    }\n",
              "\n",
              "    .dataframe tbody tr th {\n",
              "        vertical-align: top;\n",
              "    }\n",
              "\n",
              "    .dataframe thead th {\n",
              "        text-align: right;\n",
              "    }\n",
              "</style>\n",
              "<table border=\"1\" class=\"dataframe\">\n",
              "  <thead>\n",
              "    <tr style=\"text-align: right;\">\n",
              "      <th></th>\n",
              "      <th>PFC gamma</th>\n",
              "      <th>VTA gamma</th>\n",
              "      <th>BLA gamma</th>\n",
              "      <th>NAc gamma</th>\n",
              "      <th>mouse id</th>\n",
              "      <th>cocaine status</th>\n",
              "      <th>recording</th>\n",
              "    </tr>\n",
              "  </thead>\n",
              "  <tbody>\n",
              "    <tr>\n",
              "      <th>0</th>\n",
              "      <td>-56.501194</td>\n",
              "      <td>-58.404691</td>\n",
              "      <td>-53.796707</td>\n",
              "      <td>-54.683450</td>\n",
              "      <td>1</td>\n",
              "      <td>post</td>\n",
              "      <td>1</td>\n",
              "    </tr>\n",
              "    <tr>\n",
              "      <th>1</th>\n",
              "      <td>-55.990462</td>\n",
              "      <td>-58.988152</td>\n",
              "      <td>-54.108313</td>\n",
              "      <td>-53.480236</td>\n",
              "      <td>1</td>\n",
              "      <td>post</td>\n",
              "      <td>1</td>\n",
              "    </tr>\n",
              "    <tr>\n",
              "      <th>2</th>\n",
              "      <td>-56.533964</td>\n",
              "      <td>-56.703969</td>\n",
              "      <td>-53.713006</td>\n",
              "      <td>-53.388769</td>\n",
              "      <td>1</td>\n",
              "      <td>post</td>\n",
              "      <td>1</td>\n",
              "    </tr>\n",
              "    <tr>\n",
              "      <th>3</th>\n",
              "      <td>-55.088293</td>\n",
              "      <td>-57.277582</td>\n",
              "      <td>-54.759970</td>\n",
              "      <td>-53.832872</td>\n",
              "      <td>1</td>\n",
              "      <td>post</td>\n",
              "      <td>1</td>\n",
              "    </tr>\n",
              "    <tr>\n",
              "      <th>4</th>\n",
              "      <td>-56.064453</td>\n",
              "      <td>-56.391981</td>\n",
              "      <td>-54.370658</td>\n",
              "      <td>-54.151737</td>\n",
              "      <td>1</td>\n",
              "      <td>post</td>\n",
              "      <td>1</td>\n",
              "    </tr>\n",
              "  </tbody>\n",
              "</table>\n",
              "</div>"
            ],
            "text/plain": [
              "   PFC gamma  VTA gamma  BLA gamma  NAc gamma mouse id cocaine status recording\n",
              "0 -56.501194 -58.404691 -53.796707 -54.683450        1           post         1\n",
              "1 -55.990462 -58.988152 -54.108313 -53.480236        1           post         1\n",
              "2 -56.533964 -56.703969 -53.713006 -53.388769        1           post         1\n",
              "3 -55.088293 -57.277582 -54.759970 -53.832872        1           post         1\n",
              "4 -56.064453 -56.391981 -54.370658 -54.151737        1           post         1"
            ]
          },
          "metadata": {
            "tags": []
          },
          "execution_count": 107
        }
      ]
    },
    {
      "cell_type": "code",
      "metadata": {
        "id": "Pa0SBCDz6aIT",
        "colab_type": "code",
        "colab": {
          "base_uri": "https://localhost:8080/",
          "height": 34
        },
        "outputId": "8b4e9793-2ab8-42ac-82a4-01af77b3c210"
      },
      "source": [
        "print(\"[INFO] writing dataframe to csv\")\n",
        "final_df.to_csv(\"drive/My Drive/Projects/pilot_mouse_connectivity/Cocaine_two_mice/Spectrogram_data/updated_data/multisite_gamma_data.csv\")"
      ],
      "execution_count": 109,
      "outputs": [
        {
          "output_type": "stream",
          "text": [
            "[INFO] writing dataframe to csv\n"
          ],
          "name": "stdout"
        }
      ]
    },
    {
      "cell_type": "code",
      "metadata": {
        "id": "g381P0Sp7viL",
        "colab_type": "code",
        "colab": {
          "base_uri": "https://localhost:8080/",
          "height": 34
        },
        "outputId": "a38c21e9-75cc-4982-8cc1-071449c53cb5"
      },
      "source": [
        "print(\"[INFO] getting OFC-DMS csvs\")\n",
        "ofc_csvs=glob.glob(\"drive/My Drive/Projects/pilot_mouse_connectivity/Cocaine_two_mice/Spectrogram_data/OFC*.csv\")"
      ],
      "execution_count": 113,
      "outputs": [
        {
          "output_type": "stream",
          "text": [
            "[INFO] getting OFC-DMS csvs\n"
          ],
          "name": "stdout"
        }
      ]
    },
    {
      "cell_type": "code",
      "metadata": {
        "id": "XFY9_yny8ogi",
        "colab_type": "code",
        "colab": {}
      },
      "source": [
        ""
      ],
      "execution_count": 0,
      "outputs": []
    }
  ]
}